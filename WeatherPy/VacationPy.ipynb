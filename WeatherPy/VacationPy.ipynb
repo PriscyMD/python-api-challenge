{
 "cells": [
  {
   "cell_type": "markdown",
   "metadata": {},
   "source": [
    "# VacationPy\n",
    "---\n",
    "\n",
    "## Starter Code to Import Libraries and Load the Weather and Coordinates Data"
   ]
  },
  {
   "cell_type": "code",
   "execution_count": 1,
   "metadata": {},
   "outputs": [
    {
     "data": {
      "application/javascript": "(function(root) {\n  function now() {\n    return new Date();\n  }\n\n  var force = true;\n  var py_version = '3.4.0'.replace('rc', '-rc.').replace('.dev', '-dev.');\n  var reloading = false;\n  var Bokeh = root.Bokeh;\n\n  if (typeof (root._bokeh_timeout) === \"undefined\" || force) {\n    root._bokeh_timeout = Date.now() + 5000;\n    root._bokeh_failed_load = false;\n  }\n\n  function run_callbacks() {\n    try {\n      root._bokeh_onload_callbacks.forEach(function(callback) {\n        if (callback != null)\n          callback();\n      });\n    } finally {\n      delete root._bokeh_onload_callbacks;\n    }\n    console.debug(\"Bokeh: all callbacks have finished\");\n  }\n\n  function load_libs(css_urls, js_urls, js_modules, js_exports, callback) {\n    if (css_urls == null) css_urls = [];\n    if (js_urls == null) js_urls = [];\n    if (js_modules == null) js_modules = [];\n    if (js_exports == null) js_exports = {};\n\n    root._bokeh_onload_callbacks.push(callback);\n\n    if (root._bokeh_is_loading > 0) {\n      console.debug(\"Bokeh: BokehJS is being loaded, scheduling callback at\", now());\n      return null;\n    }\n    if (js_urls.length === 0 && js_modules.length === 0 && Object.keys(js_exports).length === 0) {\n      run_callbacks();\n      return null;\n    }\n    if (!reloading) {\n      console.debug(\"Bokeh: BokehJS not loaded, scheduling load and callback at\", now());\n    }\n\n    function on_load() {\n      root._bokeh_is_loading--;\n      if (root._bokeh_is_loading === 0) {\n        console.debug(\"Bokeh: all BokehJS libraries/stylesheets loaded\");\n        run_callbacks()\n      }\n    }\n    window._bokeh_on_load = on_load\n\n    function on_error() {\n      console.error(\"failed to load \" + url);\n    }\n\n    var skip = [];\n    if (window.requirejs) {\n      window.requirejs.config({'packages': {}, 'paths': {}, 'shim': {}});\n      root._bokeh_is_loading = css_urls.length + 0;\n    } else {\n      root._bokeh_is_loading = css_urls.length + js_urls.length + js_modules.length + Object.keys(js_exports).length;\n    }\n\n    var existing_stylesheets = []\n    var links = document.getElementsByTagName('link')\n    for (var i = 0; i < links.length; i++) {\n      var link = links[i]\n      if (link.href != null) {\n\texisting_stylesheets.push(link.href)\n      }\n    }\n    for (var i = 0; i < css_urls.length; i++) {\n      var url = css_urls[i];\n      if (existing_stylesheets.indexOf(url) !== -1) {\n\ton_load()\n\tcontinue;\n      }\n      const element = document.createElement(\"link\");\n      element.onload = on_load;\n      element.onerror = on_error;\n      element.rel = \"stylesheet\";\n      element.type = \"text/css\";\n      element.href = url;\n      console.debug(\"Bokeh: injecting link tag for BokehJS stylesheet: \", url);\n      document.body.appendChild(element);\n    }    var existing_scripts = []\n    var scripts = document.getElementsByTagName('script')\n    for (var i = 0; i < scripts.length; i++) {\n      var script = scripts[i]\n      if (script.src != null) {\n\texisting_scripts.push(script.src)\n      }\n    }\n    for (var i = 0; i < js_urls.length; i++) {\n      var url = js_urls[i];\n      if (skip.indexOf(url) !== -1 || existing_scripts.indexOf(url) !== -1) {\n\tif (!window.requirejs) {\n\t  on_load();\n\t}\n\tcontinue;\n      }\n      var element = document.createElement('script');\n      element.onload = on_load;\n      element.onerror = on_error;\n      element.async = false;\n      element.src = url;\n      console.debug(\"Bokeh: injecting script tag for BokehJS library: \", url);\n      document.head.appendChild(element);\n    }\n    for (var i = 0; i < js_modules.length; i++) {\n      var url = js_modules[i];\n      if (skip.indexOf(url) !== -1 || existing_scripts.indexOf(url) !== -1) {\n\tif (!window.requirejs) {\n\t  on_load();\n\t}\n\tcontinue;\n      }\n      var element = document.createElement('script');\n      element.onload = on_load;\n      element.onerror = on_error;\n      element.async = false;\n      element.src = url;\n      element.type = \"module\";\n      console.debug(\"Bokeh: injecting script tag for BokehJS library: \", url);\n      document.head.appendChild(element);\n    }\n    for (const name in js_exports) {\n      var url = js_exports[name];\n      if (skip.indexOf(url) >= 0 || root[name] != null) {\n\tif (!window.requirejs) {\n\t  on_load();\n\t}\n\tcontinue;\n      }\n      var element = document.createElement('script');\n      element.onerror = on_error;\n      element.async = false;\n      element.type = \"module\";\n      console.debug(\"Bokeh: injecting script tag for BokehJS library: \", url);\n      element.textContent = `\n      import ${name} from \"${url}\"\n      window.${name} = ${name}\n      window._bokeh_on_load()\n      `\n      document.head.appendChild(element);\n    }\n    if (!js_urls.length && !js_modules.length) {\n      on_load()\n    }\n  };\n\n  function inject_raw_css(css) {\n    const element = document.createElement(\"style\");\n    element.appendChild(document.createTextNode(css));\n    document.body.appendChild(element);\n  }\n\n  var js_urls = [\"https://cdn.bokeh.org/bokeh/release/bokeh-3.4.0.min.js\", \"https://cdn.bokeh.org/bokeh/release/bokeh-gl-3.4.0.min.js\", \"https://cdn.bokeh.org/bokeh/release/bokeh-widgets-3.4.0.min.js\", \"https://cdn.bokeh.org/bokeh/release/bokeh-tables-3.4.0.min.js\", \"https://cdn.holoviz.org/panel/1.4.2/dist/panel.min.js\"];\n  var js_modules = [];\n  var js_exports = {};\n  var css_urls = [];\n  var inline_js = [    function(Bokeh) {\n      Bokeh.set_log_level(\"info\");\n    },\nfunction(Bokeh) {} // ensure no trailing comma for IE\n  ];\n\n  function run_inline_js() {\n    if ((root.Bokeh !== undefined) || (force === true)) {\n      for (var i = 0; i < inline_js.length; i++) {\n\ttry {\n          inline_js[i].call(root, root.Bokeh);\n\t} catch(e) {\n\t  if (!reloading) {\n\t    throw e;\n\t  }\n\t}\n      }\n      // Cache old bokeh versions\n      if (Bokeh != undefined && !reloading) {\n\tvar NewBokeh = root.Bokeh;\n\tif (Bokeh.versions === undefined) {\n\t  Bokeh.versions = new Map();\n\t}\n\tif (NewBokeh.version !== Bokeh.version) {\n\t  Bokeh.versions.set(NewBokeh.version, NewBokeh)\n\t}\n\troot.Bokeh = Bokeh;\n      }} else if (Date.now() < root._bokeh_timeout) {\n      setTimeout(run_inline_js, 100);\n    } else if (!root._bokeh_failed_load) {\n      console.log(\"Bokeh: BokehJS failed to load within specified timeout.\");\n      root._bokeh_failed_load = true;\n    }\n    root._bokeh_is_initializing = false\n  }\n\n  function load_or_wait() {\n    // Implement a backoff loop that tries to ensure we do not load multiple\n    // versions of Bokeh and its dependencies at the same time.\n    // In recent versions we use the root._bokeh_is_initializing flag\n    // to determine whether there is an ongoing attempt to initialize\n    // bokeh, however for backward compatibility we also try to ensure\n    // that we do not start loading a newer (Panel>=1.0 and Bokeh>3) version\n    // before older versions are fully initialized.\n    if (root._bokeh_is_initializing && Date.now() > root._bokeh_timeout) {\n      root._bokeh_is_initializing = false;\n      root._bokeh_onload_callbacks = undefined;\n      console.log(\"Bokeh: BokehJS was loaded multiple times but one version failed to initialize.\");\n      load_or_wait();\n    } else if (root._bokeh_is_initializing || (typeof root._bokeh_is_initializing === \"undefined\" && root._bokeh_onload_callbacks !== undefined)) {\n      setTimeout(load_or_wait, 100);\n    } else {\n      root._bokeh_is_initializing = true\n      root._bokeh_onload_callbacks = []\n      var bokeh_loaded = Bokeh != null && (Bokeh.version === py_version || (Bokeh.versions !== undefined && Bokeh.versions.has(py_version)));\n      if (!reloading && !bokeh_loaded) {\n\troot.Bokeh = undefined;\n      }\n      load_libs(css_urls, js_urls, js_modules, js_exports, function() {\n\tconsole.debug(\"Bokeh: BokehJS plotting callback run at\", now());\n\trun_inline_js();\n      });\n    }\n  }\n  // Give older versions of the autoload script a head-start to ensure\n  // they initialize before we start loading newer version.\n  setTimeout(load_or_wait, 100)\n}(window));",
      "application/vnd.holoviews_load.v0+json": ""
     },
     "metadata": {},
     "output_type": "display_data"
    },
    {
     "data": {
      "application/javascript": "\nif ((window.PyViz === undefined) || (window.PyViz instanceof HTMLElement)) {\n  window.PyViz = {comms: {}, comm_status:{}, kernels:{}, receivers: {}, plot_index: []}\n}\n\n\n    function JupyterCommManager() {\n    }\n\n    JupyterCommManager.prototype.register_target = function(plot_id, comm_id, msg_handler) {\n      if (window.comm_manager || ((window.Jupyter !== undefined) && (Jupyter.notebook.kernel != null))) {\n        var comm_manager = window.comm_manager || Jupyter.notebook.kernel.comm_manager;\n        comm_manager.register_target(comm_id, function(comm) {\n          comm.on_msg(msg_handler);\n        });\n      } else if ((plot_id in window.PyViz.kernels) && (window.PyViz.kernels[plot_id])) {\n        window.PyViz.kernels[plot_id].registerCommTarget(comm_id, function(comm) {\n          comm.onMsg = msg_handler;\n        });\n      } else if (typeof google != 'undefined' && google.colab.kernel != null) {\n        google.colab.kernel.comms.registerTarget(comm_id, (comm) => {\n          var messages = comm.messages[Symbol.asyncIterator]();\n          function processIteratorResult(result) {\n            var message = result.value;\n            console.log(message)\n            var content = {data: message.data, comm_id};\n            var buffers = []\n            for (var buffer of message.buffers || []) {\n              buffers.push(new DataView(buffer))\n            }\n            var metadata = message.metadata || {};\n            var msg = {content, buffers, metadata}\n            msg_handler(msg);\n            return messages.next().then(processIteratorResult);\n          }\n          return messages.next().then(processIteratorResult);\n        })\n      }\n    }\n\n    JupyterCommManager.prototype.get_client_comm = function(plot_id, comm_id, msg_handler) {\n      if (comm_id in window.PyViz.comms) {\n        return window.PyViz.comms[comm_id];\n      } else if (window.comm_manager || ((window.Jupyter !== undefined) && (Jupyter.notebook.kernel != null))) {\n        var comm_manager = window.comm_manager || Jupyter.notebook.kernel.comm_manager;\n        var comm = comm_manager.new_comm(comm_id, {}, {}, {}, comm_id);\n        if (msg_handler) {\n          comm.on_msg(msg_handler);\n        }\n      } else if ((plot_id in window.PyViz.kernels) && (window.PyViz.kernels[plot_id])) {\n        var comm = window.PyViz.kernels[plot_id].connectToComm(comm_id);\n        comm.open();\n        if (msg_handler) {\n          comm.onMsg = msg_handler;\n        }\n      } else if (typeof google != 'undefined' && google.colab.kernel != null) {\n        var comm_promise = google.colab.kernel.comms.open(comm_id)\n        comm_promise.then((comm) => {\n          window.PyViz.comms[comm_id] = comm;\n          if (msg_handler) {\n            var messages = comm.messages[Symbol.asyncIterator]();\n            function processIteratorResult(result) {\n              var message = result.value;\n              var content = {data: message.data};\n              var metadata = message.metadata || {comm_id};\n              var msg = {content, metadata}\n              msg_handler(msg);\n              return messages.next().then(processIteratorResult);\n            }\n            return messages.next().then(processIteratorResult);\n          }\n        }) \n        var sendClosure = (data, metadata, buffers, disposeOnDone) => {\n          return comm_promise.then((comm) => {\n            comm.send(data, metadata, buffers, disposeOnDone);\n          });\n        };\n        var comm = {\n          send: sendClosure\n        };\n      }\n      window.PyViz.comms[comm_id] = comm;\n      return comm;\n    }\n    window.PyViz.comm_manager = new JupyterCommManager();\n    \n\n\nvar JS_MIME_TYPE = 'application/javascript';\nvar HTML_MIME_TYPE = 'text/html';\nvar EXEC_MIME_TYPE = 'application/vnd.holoviews_exec.v0+json';\nvar CLASS_NAME = 'output';\n\n/**\n * Render data to the DOM node\n */\nfunction render(props, node) {\n  var div = document.createElement(\"div\");\n  var script = document.createElement(\"script\");\n  node.appendChild(div);\n  node.appendChild(script);\n}\n\n/**\n * Handle when a new output is added\n */\nfunction handle_add_output(event, handle) {\n  var output_area = handle.output_area;\n  var output = handle.output;\n  if ((output.data == undefined) || (!output.data.hasOwnProperty(EXEC_MIME_TYPE))) {\n    return\n  }\n  var id = output.metadata[EXEC_MIME_TYPE][\"id\"];\n  var toinsert = output_area.element.find(\".\" + CLASS_NAME.split(' ')[0]);\n  if (id !== undefined) {\n    var nchildren = toinsert.length;\n    var html_node = toinsert[nchildren-1].children[0];\n    html_node.innerHTML = output.data[HTML_MIME_TYPE];\n    var scripts = [];\n    var nodelist = html_node.querySelectorAll(\"script\");\n    for (var i in nodelist) {\n      if (nodelist.hasOwnProperty(i)) {\n        scripts.push(nodelist[i])\n      }\n    }\n\n    scripts.forEach( function (oldScript) {\n      var newScript = document.createElement(\"script\");\n      var attrs = [];\n      var nodemap = oldScript.attributes;\n      for (var j in nodemap) {\n        if (nodemap.hasOwnProperty(j)) {\n          attrs.push(nodemap[j])\n        }\n      }\n      attrs.forEach(function(attr) { newScript.setAttribute(attr.name, attr.value) });\n      newScript.appendChild(document.createTextNode(oldScript.innerHTML));\n      oldScript.parentNode.replaceChild(newScript, oldScript);\n    });\n    if (JS_MIME_TYPE in output.data) {\n      toinsert[nchildren-1].children[1].textContent = output.data[JS_MIME_TYPE];\n    }\n    output_area._hv_plot_id = id;\n    if ((window.Bokeh !== undefined) && (id in Bokeh.index)) {\n      window.PyViz.plot_index[id] = Bokeh.index[id];\n    } else {\n      window.PyViz.plot_index[id] = null;\n    }\n  } else if (output.metadata[EXEC_MIME_TYPE][\"server_id\"] !== undefined) {\n    var bk_div = document.createElement(\"div\");\n    bk_div.innerHTML = output.data[HTML_MIME_TYPE];\n    var script_attrs = bk_div.children[0].attributes;\n    for (var i = 0; i < script_attrs.length; i++) {\n      toinsert[toinsert.length - 1].childNodes[1].setAttribute(script_attrs[i].name, script_attrs[i].value);\n    }\n    // store reference to server id on output_area\n    output_area._bokeh_server_id = output.metadata[EXEC_MIME_TYPE][\"server_id\"];\n  }\n}\n\n/**\n * Handle when an output is cleared or removed\n */\nfunction handle_clear_output(event, handle) {\n  var id = handle.cell.output_area._hv_plot_id;\n  var server_id = handle.cell.output_area._bokeh_server_id;\n  if (((id === undefined) || !(id in PyViz.plot_index)) && (server_id !== undefined)) { return; }\n  var comm = window.PyViz.comm_manager.get_client_comm(\"hv-extension-comm\", \"hv-extension-comm\", function () {});\n  if (server_id !== null) {\n    comm.send({event_type: 'server_delete', 'id': server_id});\n    return;\n  } else if (comm !== null) {\n    comm.send({event_type: 'delete', 'id': id});\n  }\n  delete PyViz.plot_index[id];\n  if ((window.Bokeh !== undefined) & (id in window.Bokeh.index)) {\n    var doc = window.Bokeh.index[id].model.document\n    doc.clear();\n    const i = window.Bokeh.documents.indexOf(doc);\n    if (i > -1) {\n      window.Bokeh.documents.splice(i, 1);\n    }\n  }\n}\n\n/**\n * Handle kernel restart event\n */\nfunction handle_kernel_cleanup(event, handle) {\n  delete PyViz.comms[\"hv-extension-comm\"];\n  window.PyViz.plot_index = {}\n}\n\n/**\n * Handle update_display_data messages\n */\nfunction handle_update_output(event, handle) {\n  handle_clear_output(event, {cell: {output_area: handle.output_area}})\n  handle_add_output(event, handle)\n}\n\nfunction register_renderer(events, OutputArea) {\n  function append_mime(data, metadata, element) {\n    // create a DOM node to render to\n    var toinsert = this.create_output_subarea(\n    metadata,\n    CLASS_NAME,\n    EXEC_MIME_TYPE\n    );\n    this.keyboard_manager.register_events(toinsert);\n    // Render to node\n    var props = {data: data, metadata: metadata[EXEC_MIME_TYPE]};\n    render(props, toinsert[0]);\n    element.append(toinsert);\n    return toinsert\n  }\n\n  events.on('output_added.OutputArea', handle_add_output);\n  events.on('output_updated.OutputArea', handle_update_output);\n  events.on('clear_output.CodeCell', handle_clear_output);\n  events.on('delete.Cell', handle_clear_output);\n  events.on('kernel_ready.Kernel', handle_kernel_cleanup);\n\n  OutputArea.prototype.register_mime_type(EXEC_MIME_TYPE, append_mime, {\n    safe: true,\n    index: 0\n  });\n}\n\nif (window.Jupyter !== undefined) {\n  try {\n    var events = require('base/js/events');\n    var OutputArea = require('notebook/js/outputarea').OutputArea;\n    if (OutputArea.prototype.mime_types().indexOf(EXEC_MIME_TYPE) == -1) {\n      register_renderer(events, OutputArea);\n    }\n  } catch(err) {\n  }\n}\n",
      "application/vnd.holoviews_load.v0+json": ""
     },
     "metadata": {},
     "output_type": "display_data"
    },
    {
     "data": {
      "text/html": [
       "<style>*[data-root-id],\n",
       "*[data-root-id] > * {\n",
       "  box-sizing: border-box;\n",
       "  font-family: var(--jp-ui-font-family);\n",
       "  font-size: var(--jp-ui-font-size1);\n",
       "  color: var(--vscode-editor-foreground, var(--jp-ui-font-color1));\n",
       "}\n",
       "\n",
       "/* Override VSCode background color */\n",
       ".cell-output-ipywidget-background:has(\n",
       "    > .cell-output-ipywidget-background > .lm-Widget > *[data-root-id]\n",
       "  ),\n",
       ".cell-output-ipywidget-background:has(> .lm-Widget > *[data-root-id]) {\n",
       "  background-color: transparent !important;\n",
       "}\n",
       "</style>"
      ]
     },
     "metadata": {},
     "output_type": "display_data"
    },
    {
     "data": {
      "application/vnd.holoviews_exec.v0+json": "",
      "text/html": [
       "<div id='p1002'>\n",
       "  <div id=\"b05be5a9-ace0-4c66-bc40-b1205edef6d4\" data-root-id=\"p1002\" style=\"display: contents;\"></div>\n",
       "</div>\n",
       "<script type=\"application/javascript\">(function(root) {\n",
       "  var docs_json = {\"e504efc0-e007-4212-9740-a22f155f7787\":{\"version\":\"3.4.0\",\"title\":\"Bokeh Application\",\"roots\":[{\"type\":\"object\",\"name\":\"panel.models.browser.BrowserInfo\",\"id\":\"p1002\"},{\"type\":\"object\",\"name\":\"panel.models.comm_manager.CommManager\",\"id\":\"p1003\",\"attributes\":{\"plot_id\":\"p1002\",\"comm_id\":\"55f1fcd4b1c64a07a0aab8d93851f361\",\"client_comm_id\":\"bdcc60b316284955b54cfd2c51be19a6\"}}],\"defs\":[{\"type\":\"model\",\"name\":\"ReactiveHTML1\"},{\"type\":\"model\",\"name\":\"FlexBox1\",\"properties\":[{\"name\":\"align_content\",\"kind\":\"Any\",\"default\":\"flex-start\"},{\"name\":\"align_items\",\"kind\":\"Any\",\"default\":\"flex-start\"},{\"name\":\"flex_direction\",\"kind\":\"Any\",\"default\":\"row\"},{\"name\":\"flex_wrap\",\"kind\":\"Any\",\"default\":\"wrap\"},{\"name\":\"gap\",\"kind\":\"Any\",\"default\":\"\"},{\"name\":\"justify_content\",\"kind\":\"Any\",\"default\":\"flex-start\"}]},{\"type\":\"model\",\"name\":\"FloatPanel1\",\"properties\":[{\"name\":\"config\",\"kind\":\"Any\",\"default\":{\"type\":\"map\"}},{\"name\":\"contained\",\"kind\":\"Any\",\"default\":true},{\"name\":\"position\",\"kind\":\"Any\",\"default\":\"right-top\"},{\"name\":\"offsetx\",\"kind\":\"Any\",\"default\":null},{\"name\":\"offsety\",\"kind\":\"Any\",\"default\":null},{\"name\":\"theme\",\"kind\":\"Any\",\"default\":\"primary\"},{\"name\":\"status\",\"kind\":\"Any\",\"default\":\"normalized\"}]},{\"type\":\"model\",\"name\":\"GridStack1\",\"properties\":[{\"name\":\"mode\",\"kind\":\"Any\",\"default\":\"warn\"},{\"name\":\"ncols\",\"kind\":\"Any\",\"default\":null},{\"name\":\"nrows\",\"kind\":\"Any\",\"default\":null},{\"name\":\"allow_resize\",\"kind\":\"Any\",\"default\":true},{\"name\":\"allow_drag\",\"kind\":\"Any\",\"default\":true},{\"name\":\"state\",\"kind\":\"Any\",\"default\":[]}]},{\"type\":\"model\",\"name\":\"drag1\",\"properties\":[{\"name\":\"slider_width\",\"kind\":\"Any\",\"default\":5},{\"name\":\"slider_color\",\"kind\":\"Any\",\"default\":\"black\"},{\"name\":\"value\",\"kind\":\"Any\",\"default\":50}]},{\"type\":\"model\",\"name\":\"click1\",\"properties\":[{\"name\":\"terminal_output\",\"kind\":\"Any\",\"default\":\"\"},{\"name\":\"debug_name\",\"kind\":\"Any\",\"default\":\"\"},{\"name\":\"clears\",\"kind\":\"Any\",\"default\":0}]},{\"type\":\"model\",\"name\":\"FastWrapper1\",\"properties\":[{\"name\":\"object\",\"kind\":\"Any\",\"default\":null},{\"name\":\"style\",\"kind\":\"Any\",\"default\":null}]},{\"type\":\"model\",\"name\":\"NotificationAreaBase1\",\"properties\":[{\"name\":\"js_events\",\"kind\":\"Any\",\"default\":{\"type\":\"map\"}},{\"name\":\"position\",\"kind\":\"Any\",\"default\":\"bottom-right\"},{\"name\":\"_clear\",\"kind\":\"Any\",\"default\":0}]},{\"type\":\"model\",\"name\":\"NotificationArea1\",\"properties\":[{\"name\":\"js_events\",\"kind\":\"Any\",\"default\":{\"type\":\"map\"}},{\"name\":\"notifications\",\"kind\":\"Any\",\"default\":[]},{\"name\":\"position\",\"kind\":\"Any\",\"default\":\"bottom-right\"},{\"name\":\"_clear\",\"kind\":\"Any\",\"default\":0},{\"name\":\"types\",\"kind\":\"Any\",\"default\":[{\"type\":\"map\",\"entries\":[[\"type\",\"warning\"],[\"background\",\"#ffc107\"],[\"icon\",{\"type\":\"map\",\"entries\":[[\"className\",\"fas fa-exclamation-triangle\"],[\"tagName\",\"i\"],[\"color\",\"white\"]]}]]},{\"type\":\"map\",\"entries\":[[\"type\",\"info\"],[\"background\",\"#007bff\"],[\"icon\",{\"type\":\"map\",\"entries\":[[\"className\",\"fas fa-info-circle\"],[\"tagName\",\"i\"],[\"color\",\"white\"]]}]]}]}]},{\"type\":\"model\",\"name\":\"Notification\",\"properties\":[{\"name\":\"background\",\"kind\":\"Any\",\"default\":null},{\"name\":\"duration\",\"kind\":\"Any\",\"default\":3000},{\"name\":\"icon\",\"kind\":\"Any\",\"default\":null},{\"name\":\"message\",\"kind\":\"Any\",\"default\":\"\"},{\"name\":\"notification_type\",\"kind\":\"Any\",\"default\":null},{\"name\":\"_destroyed\",\"kind\":\"Any\",\"default\":false}]},{\"type\":\"model\",\"name\":\"TemplateActions1\",\"properties\":[{\"name\":\"open_modal\",\"kind\":\"Any\",\"default\":0},{\"name\":\"close_modal\",\"kind\":\"Any\",\"default\":0}]},{\"type\":\"model\",\"name\":\"BootstrapTemplateActions1\",\"properties\":[{\"name\":\"open_modal\",\"kind\":\"Any\",\"default\":0},{\"name\":\"close_modal\",\"kind\":\"Any\",\"default\":0}]},{\"type\":\"model\",\"name\":\"TemplateEditor1\",\"properties\":[{\"name\":\"layout\",\"kind\":\"Any\",\"default\":[]}]},{\"type\":\"model\",\"name\":\"MaterialTemplateActions1\",\"properties\":[{\"name\":\"open_modal\",\"kind\":\"Any\",\"default\":0},{\"name\":\"close_modal\",\"kind\":\"Any\",\"default\":0}]},{\"type\":\"model\",\"name\":\"copy_to_clipboard1\",\"properties\":[{\"name\":\"fill\",\"kind\":\"Any\",\"default\":\"none\"},{\"name\":\"value\",\"kind\":\"Any\",\"default\":null}]}]}};\n",
       "  var render_items = [{\"docid\":\"e504efc0-e007-4212-9740-a22f155f7787\",\"roots\":{\"p1002\":\"b05be5a9-ace0-4c66-bc40-b1205edef6d4\"},\"root_ids\":[\"p1002\"]}];\n",
       "  var docs = Object.values(docs_json)\n",
       "  if (!docs) {\n",
       "    return\n",
       "  }\n",
       "  const py_version = docs[0].version.replace('rc', '-rc.').replace('.dev', '-dev.')\n",
       "  function embed_document(root) {\n",
       "    var Bokeh = get_bokeh(root)\n",
       "    Bokeh.embed.embed_items_notebook(docs_json, render_items);\n",
       "    for (const render_item of render_items) {\n",
       "      for (const root_id of render_item.root_ids) {\n",
       "\tconst id_el = document.getElementById(root_id)\n",
       "\tif (id_el.children.length && (id_el.children[0].className === 'bk-root')) {\n",
       "\t  const root_el = id_el.children[0]\n",
       "\t  root_el.id = root_el.id + '-rendered'\n",
       "\t}\n",
       "      }\n",
       "    }\n",
       "  }\n",
       "  function get_bokeh(root) {\n",
       "    if (root.Bokeh === undefined) {\n",
       "      return null\n",
       "    } else if (root.Bokeh.version !== py_version) {\n",
       "      if (root.Bokeh.versions === undefined || !root.Bokeh.versions.has(py_version)) {\n",
       "\treturn null\n",
       "      }\n",
       "      return root.Bokeh.versions.get(py_version);\n",
       "    } else if (root.Bokeh.version === py_version) {\n",
       "      return root.Bokeh\n",
       "    }\n",
       "    return null\n",
       "  }\n",
       "  function is_loaded(root) {\n",
       "    var Bokeh = get_bokeh(root)\n",
       "    return (Bokeh != null && Bokeh.Panel !== undefined)\n",
       "  }\n",
       "  if (is_loaded(root)) {\n",
       "    embed_document(root);\n",
       "  } else {\n",
       "    var attempts = 0;\n",
       "    var timer = setInterval(function(root) {\n",
       "      if (is_loaded(root)) {\n",
       "        clearInterval(timer);\n",
       "        embed_document(root);\n",
       "      } else if (document.readyState == \"complete\") {\n",
       "        attempts++;\n",
       "        if (attempts > 200) {\n",
       "          clearInterval(timer);\n",
       "\t  var Bokeh = get_bokeh(root)\n",
       "\t  if (Bokeh == null || Bokeh.Panel == null) {\n",
       "            console.warn(\"Panel: ERROR: Unable to run Panel code because Bokeh or Panel library is missing\");\n",
       "\t  } else {\n",
       "\t    console.warn(\"Panel: WARNING: Attempting to render but not all required libraries could be resolved.\")\n",
       "\t    embed_document(root)\n",
       "\t  }\n",
       "        }\n",
       "      }\n",
       "    }, 25, root)\n",
       "  }\n",
       "})(window);</script>"
      ]
     },
     "metadata": {
      "application/vnd.holoviews_exec.v0+json": {
       "id": "p1002"
      }
     },
     "output_type": "display_data"
    }
   ],
   "source": [
    "# Dependencies and Setup\n",
    "import hvplot.pandas\n",
    "import pandas as pd\n",
    "import requests\n",
    "\n",
    "# Import API key\n",
    "from api_keys import geoapify_key"
   ]
  },
  {
   "cell_type": "code",
   "execution_count": 2,
   "metadata": {},
   "outputs": [
    {
     "data": {
      "text/html": [
       "<div>\n",
       "<style scoped>\n",
       "    .dataframe tbody tr th:only-of-type {\n",
       "        vertical-align: middle;\n",
       "    }\n",
       "\n",
       "    .dataframe tbody tr th {\n",
       "        vertical-align: top;\n",
       "    }\n",
       "\n",
       "    .dataframe thead th {\n",
       "        text-align: right;\n",
       "    }\n",
       "</style>\n",
       "<table border=\"1\" class=\"dataframe\">\n",
       "  <thead>\n",
       "    <tr style=\"text-align: right;\">\n",
       "      <th></th>\n",
       "      <th>City_ID</th>\n",
       "      <th>City</th>\n",
       "      <th>Lat</th>\n",
       "      <th>Lng</th>\n",
       "      <th>Max Temp</th>\n",
       "      <th>Humidity</th>\n",
       "      <th>Cloudiness</th>\n",
       "      <th>Wind Speed</th>\n",
       "      <th>Date</th>\n",
       "    </tr>\n",
       "  </thead>\n",
       "  <tbody>\n",
       "    <tr>\n",
       "      <th>0</th>\n",
       "      <td>0</td>\n",
       "      <td>college</td>\n",
       "      <td>87.3229</td>\n",
       "      <td>-154.6111</td>\n",
       "      <td>263.55</td>\n",
       "      <td>93</td>\n",
       "      <td>100</td>\n",
       "      <td>3.91</td>\n",
       "      <td>1715275749</td>\n",
       "    </tr>\n",
       "    <tr>\n",
       "      <th>1</th>\n",
       "      <td>1</td>\n",
       "      <td>mili</td>\n",
       "      <td>4.7367</td>\n",
       "      <td>171.5723</td>\n",
       "      <td>301.49</td>\n",
       "      <td>80</td>\n",
       "      <td>66</td>\n",
       "      <td>5.06</td>\n",
       "      <td>1715275750</td>\n",
       "    </tr>\n",
       "    <tr>\n",
       "      <th>2</th>\n",
       "      <td>2</td>\n",
       "      <td>port alfred</td>\n",
       "      <td>-64.1194</td>\n",
       "      <td>39.6399</td>\n",
       "      <td>269.37</td>\n",
       "      <td>85</td>\n",
       "      <td>100</td>\n",
       "      <td>12.52</td>\n",
       "      <td>1715275751</td>\n",
       "    </tr>\n",
       "    <tr>\n",
       "      <th>3</th>\n",
       "      <td>3</td>\n",
       "      <td>blackmans bay</td>\n",
       "      <td>-72.2757</td>\n",
       "      <td>125.1142</td>\n",
       "      <td>215.81</td>\n",
       "      <td>100</td>\n",
       "      <td>52</td>\n",
       "      <td>5.03</td>\n",
       "      <td>1715275752</td>\n",
       "    </tr>\n",
       "    <tr>\n",
       "      <th>4</th>\n",
       "      <td>4</td>\n",
       "      <td>nishinoomote</td>\n",
       "      <td>29.0990</td>\n",
       "      <td>133.7714</td>\n",
       "      <td>292.36</td>\n",
       "      <td>61</td>\n",
       "      <td>100</td>\n",
       "      <td>3.94</td>\n",
       "      <td>1715275752</td>\n",
       "    </tr>\n",
       "  </tbody>\n",
       "</table>\n",
       "</div>"
      ],
      "text/plain": [
       "   City_ID           City      Lat       Lng  Max Temp  Humidity  Cloudiness  \\\n",
       "0        0        college  87.3229 -154.6111    263.55        93         100   \n",
       "1        1           mili   4.7367  171.5723    301.49        80          66   \n",
       "2        2    port alfred -64.1194   39.6399    269.37        85         100   \n",
       "3        3  blackmans bay -72.2757  125.1142    215.81       100          52   \n",
       "4        4   nishinoomote  29.0990  133.7714    292.36        61         100   \n",
       "\n",
       "   Wind Speed        Date  \n",
       "0        3.91  1715275749  \n",
       "1        5.06  1715275750  \n",
       "2       12.52  1715275751  \n",
       "3        5.03  1715275752  \n",
       "4        3.94  1715275752  "
      ]
     },
     "execution_count": 2,
     "metadata": {},
     "output_type": "execute_result"
    }
   ],
   "source": [
    "# Load the CSV file created in Part 1 into a Pandas DataFrame\n",
    "city_data_df = pd.read_csv(\"output_data/cities.csv\")\n",
    "\n",
    "# Display sample data\n",
    "city_data_df.head()"
   ]
  },
  {
   "cell_type": "markdown",
   "metadata": {},
   "source": [
    "---\n",
    "\n",
    "### Step 1: Create a map that displays a point for every city in the `city_data_df` DataFrame. The size of the point should be the humidity in each city."
   ]
  },
  {
   "cell_type": "code",
   "execution_count": 3,
   "metadata": {},
   "outputs": [
    {
     "data": {},
     "metadata": {},
     "output_type": "display_data"
    },
    {
     "data": {
      "application/vnd.holoviews_exec.v0+json": "",
      "text/html": [
       "<div id='p1011'>\n",
       "  <div id=\"b6e302ac-d8fd-4811-a93a-89a134bb6219\" data-root-id=\"p1011\" style=\"display: contents;\"></div>\n",
       "</div>\n",
       "<script type=\"application/javascript\">(function(root) {\n",
       "  var docs_json = {\"d573f5fe-6af2-4ba6-87c5-e536010e108c\":{\"version\":\"3.4.0\",\"title\":\"Bokeh Application\",\"roots\":[{\"type\":\"object\",\"name\":\"Row\",\"id\":\"p1011\",\"attributes\":{\"name\":\"Row01696\",\"tags\":[\"embedded\"],\"stylesheets\":[\"\\n:host(.pn-loading):before, .pn-loading:before {\\n  background-color: #c3c3c3;\\n  mask-size: auto calc(min(50%, 400px));\\n  -webkit-mask-size: auto calc(min(50%, 400px));\\n}\",{\"type\":\"object\",\"name\":\"ImportedStyleSheet\",\"id\":\"p1014\",\"attributes\":{\"url\":\"https://cdn.holoviz.org/panel/1.4.2/dist/css/loading.css\"}},{\"type\":\"object\",\"name\":\"ImportedStyleSheet\",\"id\":\"p1103\",\"attributes\":{\"url\":\"https://cdn.holoviz.org/panel/1.4.2/dist/css/listpanel.css\"}},{\"type\":\"object\",\"name\":\"ImportedStyleSheet\",\"id\":\"p1012\",\"attributes\":{\"url\":\"https://cdn.holoviz.org/panel/1.4.2/dist/bundled/theme/default.css\"}},{\"type\":\"object\",\"name\":\"ImportedStyleSheet\",\"id\":\"p1013\",\"attributes\":{\"url\":\"https://cdn.holoviz.org/panel/1.4.2/dist/bundled/theme/native.css\"}}],\"margin\":0,\"sizing_mode\":\"stretch_width\",\"align\":\"start\",\"children\":[{\"type\":\"object\",\"name\":\"Spacer\",\"id\":\"p1015\",\"attributes\":{\"name\":\"HSpacer01702\",\"stylesheets\":[\"\\n:host(.pn-loading):before, .pn-loading:before {\\n  background-color: #c3c3c3;\\n  mask-size: auto calc(min(50%, 400px));\\n  -webkit-mask-size: auto calc(min(50%, 400px));\\n}\",{\"id\":\"p1014\"},{\"id\":\"p1012\"},{\"id\":\"p1013\"}],\"margin\":0,\"sizing_mode\":\"stretch_width\",\"align\":\"start\"}},{\"type\":\"object\",\"name\":\"Figure\",\"id\":\"p1044\",\"attributes\":{\"width\":null,\"height\":null,\"margin\":[5,10],\"sizing_mode\":\"fixed\",\"align\":\"start\",\"x_range\":{\"type\":\"object\",\"name\":\"Range1d\",\"id\":\"p1025\",\"attributes\":{\"tags\":[[[\"Longitude\",\"Longitude\",null]],[]],\"start\":-23967117.289872676,\"end\":23967117.289872676,\"reset_start\":-23967117.289872676,\"reset_end\":23967117.289872676,\"min_interval\":5}},\"y_range\":{\"type\":\"object\",\"name\":\"Range1d\",\"id\":\"p1026\",\"attributes\":{\"tags\":[[[\"Latitude\",\"Latitude\",null]],{\"type\":\"map\",\"entries\":[[\"invert_yaxis\",false],[\"autorange\",false]]}],\"start\":-24045010.011347096,\"end\":24045010.011347096,\"reset_start\":-24045010.011347096,\"reset_end\":24045010.011347096,\"min_interval\":5}},\"x_scale\":{\"type\":\"object\",\"name\":\"LinearScale\",\"id\":\"p1054\"},\"y_scale\":{\"type\":\"object\",\"name\":\"LinearScale\",\"id\":\"p1055\"},\"title\":{\"type\":\"object\",\"name\":\"Title\",\"id\":\"p1047\",\"attributes\":{\"text_color\":\"black\",\"text_font_size\":\"12pt\"}},\"renderers\":[{\"type\":\"object\",\"name\":\"TileRenderer\",\"id\":\"p1077\",\"attributes\":{\"level\":\"underlay\",\"tile_source\":{\"type\":\"object\",\"name\":\"WMTSTileSource\",\"id\":\"p1073\",\"attributes\":{\"url\":\"https://c.tile.openstreetmap.org/{Z}/{X}/{Y}.png\",\"attribution\":\"&copy; <a href=\\\"https://www.openstreetmap.org/copyright\\\">OpenStreetMap</a> contributors\"}}}},{\"type\":\"object\",\"name\":\"GlyphRenderer\",\"id\":\"p1093\",\"attributes\":{\"name\":\"color\",\"data_source\":{\"type\":\"object\",\"name\":\"ColumnDataSource\",\"id\":\"p1082\",\"attributes\":{\"selected\":{\"type\":\"object\",\"name\":\"Selection\",\"id\":\"p1083\",\"attributes\":{\"indices\":[],\"line_indices\":[]}},\"selection_policy\":{\"type\":\"object\",\"name\":\"UnionRenderers\",\"id\":\"p1084\"},\"data\":{\"type\":\"map\",\"entries\":[[\"Lng\",{\"type\":\"ndarray\",\"array\":{\"type\":\"bytes\",\"data\":\"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\"},\"shape\":[598],\"dtype\":\"float64\",\"order\":\"little\"}],[\"Lat\",{\"type\":\"ndarray\",\"array\":{\"type\":\"bytes\",\"data\":\"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\"},\"shape\":[598],\"dtype\":\"float64\",\"order\":\"little\"}],[\"City\",[\"college\",\"mili\",\"port alfred\",\"blackmans bay\",\"nishinoomote\",\"luderitz\",\"zafarabad\",\"atafu village\",\"edinburgh of the seven seas\",\"tolanaro\",\"yellowknife\",\"chom thong\",\"at taj\",\"cabugao\",\"roma\",\"albany\",\"belyy yar\",\"adamstown\",\"bima\",\"bilibino\",\"kushikino\",\"anadyr\",\"haiku-pauwela\",\"vorgashor\",\"el carril\",\"port-aux-francais\",\"afaahiti\",\"kodiak\",\"bethel\",\"dryden\",\"kerikeri\",\"hermanus\",\"hithadhoo\",\"al jawf\",\"west island\",\"port lincoln\",\"sittwe\",\"olonkinbyen\",\"nanao\",\"rongelap\",\"hawaiian paradise park\",\"tiksi\",\"srednebelaya\",\"emerald\",\"margaret river\",\"vilyuchinsk\",\"cullowhee\",\"waitangi\",\"geraldton\",\"cidreira\",\"margate\",\"sao martinho\",\"gargalianoi\",\"dergachi\",\"codrington\",\"hawera\",\"guerrero negro\",\"vadso\",\"adrar\",\"bondo\",\"egilsstadir\",\"sathyamangalam\",\"wailua homesteads\",\"ilulissat\",\"churapcha\",\"meadow lakes\",\"shalqar\",\"papatowai\",\"livingston\",\"birobidzhan\",\"sitka\",\"kavaratti\",\"san patricio\",\"puerto natales\",\"punta arenas\",\"papao\",\"melfort\",\"taiohae\",\"quellon\",\"collie\",\"pisco\",\"keflavik\",\"murakami\",\"grytviken\",\"salvador\",\"goondiwindi\",\"sandnessjoen\",\"saint-pierre\",\"whistler\",\"celestun\",\"pangai\",\"carrigaline\",\"genhe\",\"galliano\",\"puerto san carlos\",\"invercargill\",\"armacao de buzios\",\"santa ana\",\"den burg\",\"swakopmund\",\"sona\",\"avarua\",\"hovd\",\"shingu\",\"palmer\",\"tocopilla\",\"siocon\",\"vorkuta\",\"fort bragg\",\"nemuro\",\"isafjordur\",\"kapuskasing\",\"porto novo\",\"gurupi\",\"salo\",\"miyako\",\"mirpur bhtoro\",\"nyurba\",\"lebu\",\"pervomayskiy\",\"iskateley\",\"fale old settlement\",\"arauca\",\"barrow in furness\",\"cannonvale\",\"malango\",\"tiruchchendur\",\"udachny\",\"kingston\",\"lihue\",\"aykhal\",\"stanley\",\"savave village\",\"mabaruma\",\"longyearbyen\",\"amble\",\"ushuaia\",\"uturoa\",\"ghatanji\",\"opuwo\",\"gao\",\"mount isa\",\"nicoya\",\"ancud\",\"union city\",\"guaranda\",\"shahrak-e pabedana\",\"qaqortoq\",\"mitu\",\"aasiaat\",\"iqaluit\",\"mount gambier\",\"selkirk\",\"vernon\",\"kudat\",\"salinas\",\"joshimath\",\"vila franca do campo\",\"saint-philippe\",\"puerto ayora\",\"nuuk\",\"el nido\",\"saint-joseph\",\"bluefields\",\"rawson\",\"brisas de zicatela\",\"tura\",\"ibshaway\",\"hutchinson island south\",\"usogorsk\",\"sinabang\",\"ar ruways\",\"sumbawanga\",\"kununurra\",\"menongue\",\"badger\",\"port mathurin\",\"arraial do cabo\",\"ouro preto do oeste\",\"enewetak\",\"smithers\",\"napili-honokowai\",\"villa ocampo\",\"martapura\",\"kuanda\",\"karera\",\"alice springs\",\"ribeira grande\",\"mthatha\",\"la passe\",\"janja\",\"chonchi\",\"georgetown\",\"dudinka\",\"carnarvon\",\"mogocha\",\"umatilla\",\"todos santos\",\"saudarkrokur\",\"holualoa\",\"manismata\",\"taoudenni\",\"thompson\",\"sarupathar\",\"naxos\",\"acarau\",\"edd\",\"macusani\",\"qarqaraly\",\"gaspe\",\"priob'ye\",\"hasaki\",\"whitehorse\",\"mombetsu\",\"otaki\",\"thinadhoo\",\"vanimo\",\"polyarnyy\",\"antonio enes\",\"wicklow\",\"samana\",\"talnakh\",\"villa gesell\",\"nanguneri\",\"tofol\",\"okakarara\",\"fisterra\",\"afantou\",\"oberstaufen\",\"crane\",\"al ghayzah\",\"cesme\",\"obo\",\"sao gabriel da cachoeira\",\"lazaro cardenas\",\"bandar lampung\",\"pyapon\",\"cuero\",\"andratx\",\"wuwei\",\"st. john's\",\"reyes\",\"abbadia san salvatore\",\"cut-cut primero\",\"cockburn town\",\"bredasdorp\",\"baardheere\",\"venilale\",\"hirado\",\"santa rosa de rio primero\",\"nova sintra\",\"usinsk\",\"pacasmayo\",\"santyoku\",\"sao felix do xingu\",\"constantia\",\"klyuchi\",\"la rioja\",\"flying fish cove\",\"sainyabuli\",\"cuatro cienegas de carranza\",\"freetown\",\"belinskiy\",\"utrik\",\"heiligenhafen\",\"yuzhno-kurilsk\",\"sumenep\",\"salobrena\",\"oguzeli\",\"baukau\",\"broome\",\"kayangel\",\"naze\",\"agat village\",\"sirjan\",\"gadzhiyevo\",\"kapa'a\",\"puerto ayacucho\",\"massawa\",\"orda\",\"yoichi\",\"grootfontein\",\"nabire\",\"as samawah\",\"pemba\",\"severnoye\",\"taulaga\",\"trinidad\",\"susuman\",\"nova vicosa\",\"namibe\",\"brookings\",\"okha\",\"san luis\",\"mejit\",\"paradip garh\",\"hammerfest\",\"kijang\",\"antalaha\",\"al ajaylat\",\"the pinery\",\"chegdomyn\",\"alofi\",\"bel ombre\",\"takamaka\",\"zheshart\",\"cururupu\",\"santa eularia des riu\",\"kudymkar\",\"port elizabeth\",\"beloyarskiy\",\"robore\",\"maragogi\",\"axim\",\"floro\",\"safford\",\"lorengau\",\"east london\",\"fortuna\",\"manta\",\"san antonio de pale\",\"minas de marcona\",\"el paso\",\"rajaori\",\"namdrik\",\"iquitos\",\"carutapera\",\"trinity beach\",\"kangding\",\"guigang\",\"ta`u\",\"coquimbo\",\"ust'-ilimsk\",\"zakamensk\",\"vangaindrano\",\"dalandzadgad\",\"saint-mandrier-sur-mer\",\"nishon tumani\",\"misratah\",\"wildwood\",\"puerto baquerizo moreno\",\"saldanha\",\"gunjur\",\"arno\",\"ghadamis\",\"bandarbeyla\",\"taroa\",\"yuzhno-sakhalinsk\",\"cabo san lucas\",\"mohr\",\"dunedin\",\"saipan\",\"los llanos de aridane\",\"baymak\",\"shihezi\",\"dwarka\",\"ayr\",\"manjo\",\"lompoc\",\"jamestown\",\"dordrecht\",\"leava\",\"sumbe\",\"tazovsky\",\"matsushima\",\"bodo\",\"mersa matruh\",\"hamilton\",\"vegachi\",\"aglona\",\"ko pha ngan\",\"horta\",\"mil'kovo\",\"zaozersk\",\"gereida\",\"jerome\",\"zaysan\",\"tayaman\",\"yigo village\",\"mournies\",\"novyye lapsary\",\"yangor\",\"colonia\",\"tamiahua\",\"huayucachi\",\"zhezqazghan\",\"kuybyshev\",\"kaiapoi\",\"kourou\",\"petropavlovsk-kamchatsky\",\"shushtar\",\"vyaz'ma\",\"tekirova\",\"warrenton\",\"ramos arizpe\",\"igarka\",\"da lat\",\"kerema\",\"west bay\",\"santa pola\",\"lusambo\",\"alma\",\"sakakah\",\"toshbuloq\",\"kovur\",\"anabar\",\"noshiro\",\"cargados carajos\",\"asaita\",\"idri\",\"antsiranana\",\"del rio\",\"chiroqchi\",\"kaa-khem\",\"pontes e lacerda\",\"masterton\",\"san miguel\",\"aral\",\"laascaanood\",\"moussoro\",\"mukalla\",\"guararapes\",\"portland\",\"peace river\",\"sassandra\",\"wamba\",\"meijel\",\"bamboo flat\",\"tamanrasset\",\"manakara\",\"kizel\",\"aksu\",\"revda\",\"chibougamau\",\"lerum\",\"minab\",\"changping\",\"oualidia\",\"pervomayskoye\",\"shuangcheng\",\"tidjikja\",\"kruisfontein\",\"motygino\",\"nouadhibou\",\"chenzhou\",\"vingt cinq\",\"xilin hot\",\"magadan\",\"zouerate\",\"parabel'\",\"pyhajarvi\",\"tsiombe\",\"villa canas\",\"zemio\",\"iquique\",\"jijiga\",\"happy valley-goose bay\",\"leninskoye\",\"fuvahmulah\",\"port saint john's\",\"oxapampa\",\"lata\",\"noosa heads\",\"sault ste. marie\",\"santa cruz\",\"callao\",\"al hufuf\",\"ndibene dahra\",\"metro\",\"aginskoye\",\"almeirim\",\"bafq\",\"al mithnab\",\"witu\",\"letlhakeng\",\"nar'yan-mar\",\"lankaran\",\"tomatlan\",\"chipinge\",\"waterboro\",\"zhangye\",\"mazagao\",\"port macquarie\",\"nuku'alofa\",\"isla mujeres\",\"kailua-kona\",\"jumla\",\"constitucion\",\"muravlenko\",\"taquarana\",\"ketchikan\",\"twyford\",\"businga\",\"zheleznogorsk-ilimskiy\",\"monroe\",\"cam ranh\",\"ust-nera\",\"berdigestyakh\",\"estevan\",\"auki\",\"covington\",\"aykol\",\"sola\",\"saint-francois\",\"hobyo\",\"senekal\",\"eirunepe\",\"jiuquan\",\"prince rupert\",\"essaouira\",\"moree\",\"rikaze\",\"reuleuet\",\"remire-montjoly\",\"dadonghai\",\"serdar\",\"halifax\",\"ghat\",\"biryusinsk\",\"badiyah\",\"mogadishu\",\"barclayville\",\"victoria de durango\",\"guiria\",\"pahrump\",\"trier\",\"westerland\",\"toliara\",\"filadelfia\",\"santa terezinha\",\"betio village\",\"fuling\",\"port hedland\",\"mount pearl\",\"bardai\",\"santos\",\"forster\",\"princeville\",\"dawson creek\",\"touros\",\"casper\",\"mar del plata\",\"we\",\"lauro de freitas\",\"eldorado\",\"merizo village\",\"fiambala\",\"rio grande\",\"lovington\",\"corner brook\",\"al ain city\",\"pecos\",\"sisimiut\",\"simanggang\",\"ierapetra\",\"brokopondo\",\"queenstown\",\"klaksvik\",\"barra de santo antonio\",\"maitum\",\"utiel\",\"ridgecrest\",\"mhlume\",\"binghamton\",\"pandan\",\"coahuayana de hidalgo\",\"moroni\",\"belmonte\",\"blenheim\",\"arkhangel'sk\",\"koluszki\",\"vereshchagino\",\"morondava\",\"sovetskaya gavan'\",\"nabari\",\"stone mountain\",\"kani keli\",\"lagunillas\",\"asubulaq\",\"kavieng\",\"lloydminster\",\"the pas\",\"oyo\",\"davydovka\",\"kolonia town\",\"danville\",\"formosa\",\"al wajh\",\"miri\",\"polewali\",\"mbanza-ngungu\",\"valdepenas\",\"wewak\",\"khagrachhari\",\"al mindak\",\"aripuana\",\"la'ie\",\"presidente franco\"]],[\"Humidity\",{\"type\":\"ndarray\",\"array\":{\"type\":\"bytes\",\"data\":\"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\"},\"shape\":[598],\"dtype\":\"int32\",\"order\":\"little\"}],[\"color\",[\"college\",\"mili\",\"port alfred\",\"blackmans bay\",\"nishinoomote\",\"luderitz\",\"zafarabad\",\"atafu village\",\"edinburgh of the seven seas\",\"tolanaro\",\"yellowknife\",\"chom thong\",\"at taj\",\"cabugao\",\"roma\",\"albany\",\"belyy yar\",\"adamstown\",\"bima\",\"bilibino\",\"kushikino\",\"anadyr\",\"haiku-pauwela\",\"vorgashor\",\"el carril\",\"port-aux-francais\",\"afaahiti\",\"kodiak\",\"bethel\",\"dryden\",\"kerikeri\",\"hermanus\",\"hithadhoo\",\"al jawf\",\"west island\",\"port lincoln\",\"sittwe\",\"olonkinbyen\",\"nanao\",\"rongelap\",\"hawaiian paradise park\",\"tiksi\",\"srednebelaya\",\"emerald\",\"margaret river\",\"vilyuchinsk\",\"cullowhee\",\"waitangi\",\"geraldton\",\"cidreira\",\"margate\",\"sao martinho\",\"gargalianoi\",\"dergachi\",\"codrington\",\"hawera\",\"guerrero negro\",\"vadso\",\"adrar\",\"bondo\",\"egilsstadir\",\"sathyamangalam\",\"wailua homesteads\",\"ilulissat\",\"churapcha\",\"meadow lakes\",\"shalqar\",\"papatowai\",\"livingston\",\"birobidzhan\",\"sitka\",\"kavaratti\",\"san patricio\",\"puerto natales\",\"punta arenas\",\"papao\",\"melfort\",\"taiohae\",\"quellon\",\"collie\",\"pisco\",\"keflavik\",\"murakami\",\"grytviken\",\"salvador\",\"goondiwindi\",\"sandnessjoen\",\"saint-pierre\",\"whistler\",\"celestun\",\"pangai\",\"carrigaline\",\"genhe\",\"galliano\",\"puerto san carlos\",\"invercargill\",\"armacao de buzios\",\"santa ana\",\"den burg\",\"swakopmund\",\"sona\",\"avarua\",\"hovd\",\"shingu\",\"palmer\",\"tocopilla\",\"siocon\",\"vorkuta\",\"fort bragg\",\"nemuro\",\"isafjordur\",\"kapuskasing\",\"porto novo\",\"gurupi\",\"salo\",\"miyako\",\"mirpur bhtoro\",\"nyurba\",\"lebu\",\"pervomayskiy\",\"iskateley\",\"fale old settlement\",\"arauca\",\"barrow in furness\",\"cannonvale\",\"malango\",\"tiruchchendur\",\"udachny\",\"kingston\",\"lihue\",\"aykhal\",\"stanley\",\"savave village\",\"mabaruma\",\"longyearbyen\",\"amble\",\"ushuaia\",\"uturoa\",\"ghatanji\",\"opuwo\",\"gao\",\"mount isa\",\"nicoya\",\"ancud\",\"union city\",\"guaranda\",\"shahrak-e pabedana\",\"qaqortoq\",\"mitu\",\"aasiaat\",\"iqaluit\",\"mount gambier\",\"selkirk\",\"vernon\",\"kudat\",\"salinas\",\"joshimath\",\"vila franca do campo\",\"saint-philippe\",\"puerto ayora\",\"nuuk\",\"el nido\",\"saint-joseph\",\"bluefields\",\"rawson\",\"brisas de zicatela\",\"tura\",\"ibshaway\",\"hutchinson island south\",\"usogorsk\",\"sinabang\",\"ar ruways\",\"sumbawanga\",\"kununurra\",\"menongue\",\"badger\",\"port mathurin\",\"arraial do cabo\",\"ouro preto do oeste\",\"enewetak\",\"smithers\",\"napili-honokowai\",\"villa ocampo\",\"martapura\",\"kuanda\",\"karera\",\"alice springs\",\"ribeira grande\",\"mthatha\",\"la passe\",\"janja\",\"chonchi\",\"georgetown\",\"dudinka\",\"carnarvon\",\"mogocha\",\"umatilla\",\"todos santos\",\"saudarkrokur\",\"holualoa\",\"manismata\",\"taoudenni\",\"thompson\",\"sarupathar\",\"naxos\",\"acarau\",\"edd\",\"macusani\",\"qarqaraly\",\"gaspe\",\"priob'ye\",\"hasaki\",\"whitehorse\",\"mombetsu\",\"otaki\",\"thinadhoo\",\"vanimo\",\"polyarnyy\",\"antonio enes\",\"wicklow\",\"samana\",\"talnakh\",\"villa gesell\",\"nanguneri\",\"tofol\",\"okakarara\",\"fisterra\",\"afantou\",\"oberstaufen\",\"crane\",\"al ghayzah\",\"cesme\",\"obo\",\"sao gabriel da cachoeira\",\"lazaro cardenas\",\"bandar lampung\",\"pyapon\",\"cuero\",\"andratx\",\"wuwei\",\"st. john's\",\"reyes\",\"abbadia san salvatore\",\"cut-cut primero\",\"cockburn town\",\"bredasdorp\",\"baardheere\",\"venilale\",\"hirado\",\"santa rosa de rio primero\",\"nova sintra\",\"usinsk\",\"pacasmayo\",\"santyoku\",\"sao felix do xingu\",\"constantia\",\"klyuchi\",\"la rioja\",\"flying fish cove\",\"sainyabuli\",\"cuatro cienegas de carranza\",\"freetown\",\"belinskiy\",\"utrik\",\"heiligenhafen\",\"yuzhno-kurilsk\",\"sumenep\",\"salobrena\",\"oguzeli\",\"baukau\",\"broome\",\"kayangel\",\"naze\",\"agat village\",\"sirjan\",\"gadzhiyevo\",\"kapa'a\",\"puerto ayacucho\",\"massawa\",\"orda\",\"yoichi\",\"grootfontein\",\"nabire\",\"as samawah\",\"pemba\",\"severnoye\",\"taulaga\",\"trinidad\",\"susuman\",\"nova vicosa\",\"namibe\",\"brookings\",\"okha\",\"san luis\",\"mejit\",\"paradip garh\",\"hammerfest\",\"kijang\",\"antalaha\",\"al ajaylat\",\"the pinery\",\"chegdomyn\",\"alofi\",\"bel ombre\",\"takamaka\",\"zheshart\",\"cururupu\",\"santa eularia des riu\",\"kudymkar\",\"port elizabeth\",\"beloyarskiy\",\"robore\",\"maragogi\",\"axim\",\"floro\",\"safford\",\"lorengau\",\"east london\",\"fortuna\",\"manta\",\"san antonio de pale\",\"minas de marcona\",\"el paso\",\"rajaori\",\"namdrik\",\"iquitos\",\"carutapera\",\"trinity beach\",\"kangding\",\"guigang\",\"ta`u\",\"coquimbo\",\"ust'-ilimsk\",\"zakamensk\",\"vangaindrano\",\"dalandzadgad\",\"saint-mandrier-sur-mer\",\"nishon tumani\",\"misratah\",\"wildwood\",\"puerto baquerizo moreno\",\"saldanha\",\"gunjur\",\"arno\",\"ghadamis\",\"bandarbeyla\",\"taroa\",\"yuzhno-sakhalinsk\",\"cabo san lucas\",\"mohr\",\"dunedin\",\"saipan\",\"los llanos de aridane\",\"baymak\",\"shihezi\",\"dwarka\",\"ayr\",\"manjo\",\"lompoc\",\"jamestown\",\"dordrecht\",\"leava\",\"sumbe\",\"tazovsky\",\"matsushima\",\"bodo\",\"mersa matruh\",\"hamilton\",\"vegachi\",\"aglona\",\"ko pha ngan\",\"horta\",\"mil'kovo\",\"zaozersk\",\"gereida\",\"jerome\",\"zaysan\",\"tayaman\",\"yigo village\",\"mournies\",\"novyye lapsary\",\"yangor\",\"colonia\",\"tamiahua\",\"huayucachi\",\"zhezqazghan\",\"kuybyshev\",\"kaiapoi\",\"kourou\",\"petropavlovsk-kamchatsky\",\"shushtar\",\"vyaz'ma\",\"tekirova\",\"warrenton\",\"ramos arizpe\",\"igarka\",\"da lat\",\"kerema\",\"west bay\",\"santa pola\",\"lusambo\",\"alma\",\"sakakah\",\"toshbuloq\",\"kovur\",\"anabar\",\"noshiro\",\"cargados carajos\",\"asaita\",\"idri\",\"antsiranana\",\"del rio\",\"chiroqchi\",\"kaa-khem\",\"pontes e lacerda\",\"masterton\",\"san miguel\",\"aral\",\"laascaanood\",\"moussoro\",\"mukalla\",\"guararapes\",\"portland\",\"peace river\",\"sassandra\",\"wamba\",\"meijel\",\"bamboo flat\",\"tamanrasset\",\"manakara\",\"kizel\",\"aksu\",\"revda\",\"chibougamau\",\"lerum\",\"minab\",\"changping\",\"oualidia\",\"pervomayskoye\",\"shuangcheng\",\"tidjikja\",\"kruisfontein\",\"motygino\",\"nouadhibou\",\"chenzhou\",\"vingt cinq\",\"xilin hot\",\"magadan\",\"zouerate\",\"parabel'\",\"pyhajarvi\",\"tsiombe\",\"villa canas\",\"zemio\",\"iquique\",\"jijiga\",\"happy valley-goose bay\",\"leninskoye\",\"fuvahmulah\",\"port saint john's\",\"oxapampa\",\"lata\",\"noosa heads\",\"sault ste. marie\",\"santa cruz\",\"callao\",\"al hufuf\",\"ndibene dahra\",\"metro\",\"aginskoye\",\"almeirim\",\"bafq\",\"al mithnab\",\"witu\",\"letlhakeng\",\"nar'yan-mar\",\"lankaran\",\"tomatlan\",\"chipinge\",\"waterboro\",\"zhangye\",\"mazagao\",\"port macquarie\",\"nuku'alofa\",\"isla mujeres\",\"kailua-kona\",\"jumla\",\"constitucion\",\"muravlenko\",\"taquarana\",\"ketchikan\",\"twyford\",\"businga\",\"zheleznogorsk-ilimskiy\",\"monroe\",\"cam ranh\",\"ust-nera\",\"berdigestyakh\",\"estevan\",\"auki\",\"covington\",\"aykol\",\"sola\",\"saint-francois\",\"hobyo\",\"senekal\",\"eirunepe\",\"jiuquan\",\"prince rupert\",\"essaouira\",\"moree\",\"rikaze\",\"reuleuet\",\"remire-montjoly\",\"dadonghai\",\"serdar\",\"halifax\",\"ghat\",\"biryusinsk\",\"badiyah\",\"mogadishu\",\"barclayville\",\"victoria de durango\",\"guiria\",\"pahrump\",\"trier\",\"westerland\",\"toliara\",\"filadelfia\",\"santa terezinha\",\"betio village\",\"fuling\",\"port hedland\",\"mount pearl\",\"bardai\",\"santos\",\"forster\",\"princeville\",\"dawson creek\",\"touros\",\"casper\",\"mar del plata\",\"we\",\"lauro de freitas\",\"eldorado\",\"merizo village\",\"fiambala\",\"rio grande\",\"lovington\",\"corner brook\",\"al ain city\",\"pecos\",\"sisimiut\",\"simanggang\",\"ierapetra\",\"brokopondo\",\"queenstown\",\"klaksvik\",\"barra de santo antonio\",\"maitum\",\"utiel\",\"ridgecrest\",\"mhlume\",\"binghamton\",\"pandan\",\"coahuayana de hidalgo\",\"moroni\",\"belmonte\",\"blenheim\",\"arkhangel'sk\",\"koluszki\",\"vereshchagino\",\"morondava\",\"sovetskaya gavan'\",\"nabari\",\"stone mountain\",\"kani keli\",\"lagunillas\",\"asubulaq\",\"kavieng\",\"lloydminster\",\"the pas\",\"oyo\",\"davydovka\",\"kolonia town\",\"danville\",\"formosa\",\"al wajh\",\"miri\",\"polewali\",\"mbanza-ngungu\",\"valdepenas\",\"wewak\",\"khagrachhari\",\"al mindak\",\"aripuana\",\"la'ie\",\"presidente franco\"]],[\"size\",{\"type\":\"ndarray\",\"array\":{\"type\":\"bytes\",\"data\":\"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\"},\"shape\":[598],\"dtype\":\"float64\",\"order\":\"little\"}]]}}},\"view\":{\"type\":\"object\",\"name\":\"CDSView\",\"id\":\"p1094\",\"attributes\":{\"filter\":{\"type\":\"object\",\"name\":\"AllIndices\",\"id\":\"p1095\"}}},\"glyph\":{\"type\":\"object\",\"name\":\"Scatter\",\"id\":\"p1088\",\"attributes\":{\"tags\":[\"apply_ranges\"],\"x\":{\"type\":\"field\",\"field\":\"Lng\"},\"y\":{\"type\":\"field\",\"field\":\"Lat\"},\"size\":{\"type\":\"field\",\"field\":\"size\"},\"line_color\":{\"type\":\"field\",\"field\":\"color\",\"transform\":{\"type\":\"object\",\"name\":\"CategoricalColorMapper\",\"id\":\"p1081\",\"attributes\":{\"palette\":[\"#1f77b3\",\"#ff7e0e\",\"#2ba02b\",\"#d62628\",\"#9367bc\",\"#8c564b\",\"#e277c1\",\"#7e7e7e\",\"#bcbc21\",\"#16bdcf\",\"#3a0182\",\"#004201\",\"#0fffa8\",\"#5d003f\",\"#bcbcff\",\"#d8afa1\",\"#b80080\",\"#004d52\",\"#6b6400\",\"#7c0100\",\"#6026ff\",\"#ffff9a\",\"#564964\",\"#8cb893\",\"#93fbff\",\"#018267\",\"#90ff00\",\"#8200a0\",\"#ac8944\",\"#5b3400\",\"#ffbff2\",\"#ff6e75\",\"#798cff\",\"#dd00ff\",\"#505646\",\"#004489\",\"#ffbf60\",\"#ff018c\",\"#bdc8cf\",\"#af97b5\",\"#b65600\",\"#017000\",\"#cd87ff\",\"#1cd646\",\"#bfebc3\",\"#7997b5\",\"#a56089\",\"#6e8956\",\"#bc7c75\",\"#8a2844\",\"#00acff\",\"#8ed4ff\",\"#4b6d77\",\"#00d4b1\",\"#9300f2\",\"#8a9500\",\"#5d5b9e\",\"#fddfba\",\"#00939e\",\"#ffdb00\",\"#00aa79\",\"#520067\",\"#000091\",\"#0a5d3d\",\"#a5e275\",\"#623b41\",\"#c6c689\",\"#ff9eb5\",\"#cd4f6b\",\"#ff07d6\",\"#8a3a05\",\"#7e3d70\",\"#ff4901\",\"#602ba5\",\"#1c00ff\",\"#e6dfff\",\"#aa3baf\",\"#d89c00\",\"#a3a39e\",\"#3f69ff\",\"#46490c\",\"#7b6985\",\"#6b978c\",\"#ff9a75\",\"#835bff\",\"#7c6b46\",\"#80b654\",\"#bc0049\",\"#fd93ff\",\"#5d0018\",\"#89d1d1\",\"#9c8cd3\",\"#da6d42\",\"#8a5700\",\"#3b5069\",\"#4b6b3b\",\"#edcfd8\",\"#cfedff\",\"#aa1500\",\"#dfff4f\",\"#ff2a56\",\"#d1499e\",\"#707cb8\",\"#598000\",\"#00e4fd\",\"#774b95\",\"#67d48c\",\"#3d3a72\",\"#ac413f\",\"#d6a166\",\"#c169cd\",\"#69595d\",\"#87aced\",\"#a0a569\",\"#d1aae6\",\"#870062\",\"#00fddb\",\"#672818\",\"#b342ff\",\"#0e59c4\",\"#168742\",\"#90d300\",\"#cd7900\",\"#f959ff\",\"#5b7466\",\"#8eaeb3\",\"#9c7c8c\",\"#4600c6\",\"#6b4d2d\",\"#a56d46\",\"#9e8972\",\"#a8afca\",\"#cd8ca7\",\"#00fd64\",\"#917900\",\"#ff62a1\",\"#f4ffd8\",\"#018cf0\",\"#13aca0\",\"#5b2d59\",\"#89859e\",\"#cfccba\",\"#d4afc4\",\"#dbdd6d\",\"#cffff4\",\"#006485\",\"#006962\",\"#a84167\",\"#2d97c4\",\"#a874ff\",\"#26ba5d\",\"#57b600\",\"#caffa7\",\"#a379aa\",\"#ffbc93\",\"#89e2c1\",\"#0fc8ff\",\"#d400c4\",\"#626d89\",\"#69858e\",\"#4b4d52\",\"#aa6067\",\"#79b5d4\",\"#2b5916\",\"#9a0024\",\"#bdd1f2\",\"#896e67\",\"#69a56b\",\"#855467\",\"#aecdba\",\"#87997e\",\"#cadb00\",\"#9a0390\",\"#ebbc1a\",\"#eb9cd1\",\"#70006e\",\"#b1a131\",\"#ca6b93\",\"#4146a3\",\"#e48c89\",\"#d44400\",\"#c68aca\",\"#b69597\",\"#d41f75\",\"#724bcc\",\"#674d00\",\"#672138\",\"#38564f\",\"#6ebaaa\",\"#853a31\",\"#a5d397\",\"#b8af8e\",\"#d8e4df\",\"#aa00df\",\"#cac1db\",\"#ffdf8c\",\"#e2524d\",\"#66696e\",\"#ff001c\",\"#522d72\",\"#4d906b\",\"#a86d11\",\"#ff9e26\",\"#5ea3af\",\"#c88556\",\"#915997\",\"#a3a1ff\",\"#fdbaba\",\"#242a87\",\"#dbe6a8\",\"#97f2a7\",\"#6793d6\",\"#ba5b3f\",\"#3a5d91\",\"#364f2f\",\"#267c95\",\"#89959a\",\"#cfb356\",\"#004664\",\"#5e5d2f\",\"#8e8e41\",\"#ac3f13\",\"#69953b\",\"#a13d85\",\"#bfb6ba\",\"#acc667\",\"#6469cf\",\"#91af00\",\"#2be2da\",\"#016e36\",\"#ff7952\",\"#42807e\",\"#4fe800\",\"#995428\",\"#5d0a00\",\"#a30057\",\"#0c8700\",\"#5982a7\",\"#ffebfb\",\"#4b6901\",\"#8775d4\",\"#e6c6ff\",\"#a5ffda\",\"#d86e77\",\"#df014b\",\"#69675b\",\"#776ba1\",\"#7e8067\",\"#594685\",\"#0000ca\",\"#7c002a\",\"#97ff72\",\"#b5e2e1\",\"#db52c8\",\"#777734\",\"#57bd8e\",\"#1f77b3\",\"#ff7e0e\",\"#2ba02b\",\"#d62628\",\"#9367bc\",\"#8c564b\",\"#e277c1\",\"#7e7e7e\",\"#bcbc21\",\"#16bdcf\",\"#3a0182\",\"#004201\",\"#0fffa8\",\"#5d003f\",\"#bcbcff\",\"#d8afa1\",\"#b80080\",\"#004d52\",\"#6b6400\",\"#7c0100\",\"#6026ff\",\"#ffff9a\",\"#564964\",\"#8cb893\",\"#93fbff\",\"#018267\",\"#90ff00\",\"#8200a0\",\"#ac8944\",\"#5b3400\",\"#ffbff2\",\"#ff6e75\",\"#798cff\",\"#dd00ff\",\"#505646\",\"#004489\",\"#ffbf60\",\"#ff018c\",\"#bdc8cf\",\"#af97b5\",\"#b65600\",\"#017000\",\"#cd87ff\",\"#1cd646\",\"#bfebc3\",\"#7997b5\",\"#a56089\",\"#6e8956\",\"#bc7c75\",\"#8a2844\",\"#00acff\",\"#8ed4ff\",\"#4b6d77\",\"#00d4b1\",\"#9300f2\",\"#8a9500\",\"#5d5b9e\",\"#fddfba\",\"#00939e\",\"#ffdb00\",\"#00aa79\",\"#520067\",\"#000091\",\"#0a5d3d\",\"#a5e275\",\"#623b41\",\"#c6c689\",\"#ff9eb5\",\"#cd4f6b\",\"#ff07d6\",\"#8a3a05\",\"#7e3d70\",\"#ff4901\",\"#602ba5\",\"#1c00ff\",\"#e6dfff\",\"#aa3baf\",\"#d89c00\",\"#a3a39e\",\"#3f69ff\",\"#46490c\",\"#7b6985\",\"#6b978c\",\"#ff9a75\",\"#835bff\",\"#7c6b46\",\"#80b654\",\"#bc0049\",\"#fd93ff\",\"#5d0018\",\"#89d1d1\",\"#9c8cd3\",\"#da6d42\",\"#8a5700\",\"#3b5069\",\"#4b6b3b\",\"#edcfd8\",\"#cfedff\",\"#aa1500\",\"#dfff4f\",\"#ff2a56\",\"#d1499e\",\"#707cb8\",\"#598000\",\"#00e4fd\",\"#774b95\",\"#67d48c\",\"#3d3a72\",\"#ac413f\",\"#d6a166\",\"#c169cd\",\"#69595d\",\"#87aced\",\"#a0a569\",\"#d1aae6\",\"#870062\",\"#00fddb\",\"#672818\",\"#b342ff\",\"#0e59c4\",\"#168742\",\"#90d300\",\"#cd7900\",\"#f959ff\",\"#5b7466\",\"#8eaeb3\",\"#9c7c8c\",\"#4600c6\",\"#6b4d2d\",\"#a56d46\",\"#9e8972\",\"#a8afca\",\"#cd8ca7\",\"#00fd64\",\"#917900\",\"#ff62a1\",\"#f4ffd8\",\"#018cf0\",\"#13aca0\",\"#5b2d59\",\"#89859e\",\"#cfccba\",\"#d4afc4\",\"#dbdd6d\",\"#cffff4\",\"#006485\",\"#006962\",\"#a84167\",\"#2d97c4\",\"#a874ff\",\"#26ba5d\",\"#57b600\",\"#caffa7\",\"#a379aa\",\"#ffbc93\",\"#89e2c1\",\"#0fc8ff\",\"#d400c4\",\"#626d89\",\"#69858e\",\"#4b4d52\",\"#aa6067\",\"#79b5d4\",\"#2b5916\",\"#9a0024\",\"#bdd1f2\",\"#896e67\",\"#69a56b\",\"#855467\",\"#aecdba\",\"#87997e\",\"#cadb00\",\"#9a0390\",\"#ebbc1a\",\"#eb9cd1\",\"#70006e\",\"#b1a131\",\"#ca6b93\",\"#4146a3\",\"#e48c89\",\"#d44400\",\"#c68aca\",\"#b69597\",\"#d41f75\",\"#724bcc\",\"#674d00\",\"#672138\",\"#38564f\",\"#6ebaaa\",\"#853a31\",\"#a5d397\",\"#b8af8e\",\"#d8e4df\",\"#aa00df\",\"#cac1db\",\"#ffdf8c\",\"#e2524d\",\"#66696e\",\"#ff001c\",\"#522d72\",\"#4d906b\",\"#a86d11\",\"#ff9e26\",\"#5ea3af\",\"#c88556\",\"#915997\",\"#a3a1ff\",\"#fdbaba\",\"#242a87\",\"#dbe6a8\",\"#97f2a7\",\"#6793d6\",\"#ba5b3f\",\"#3a5d91\",\"#364f2f\",\"#267c95\",\"#89959a\",\"#cfb356\",\"#004664\",\"#5e5d2f\",\"#8e8e41\",\"#ac3f13\",\"#69953b\",\"#a13d85\",\"#bfb6ba\",\"#acc667\",\"#6469cf\",\"#91af00\",\"#2be2da\",\"#016e36\",\"#ff7952\",\"#42807e\",\"#4fe800\",\"#995428\",\"#5d0a00\",\"#a30057\",\"#0c8700\",\"#5982a7\",\"#ffebfb\",\"#4b6901\",\"#8775d4\",\"#e6c6ff\",\"#a5ffda\",\"#d86e77\",\"#df014b\",\"#69675b\",\"#776ba1\",\"#7e8067\",\"#594685\",\"#0000ca\",\"#7c002a\",\"#97ff72\",\"#b5e2e1\",\"#db52c8\",\"#777734\",\"#57bd8e\",\"#1f77b3\",\"#ff7e0e\",\"#2ba02b\",\"#d62628\",\"#9367bc\",\"#8c564b\",\"#e277c1\",\"#7e7e7e\",\"#bcbc21\",\"#16bdcf\",\"#3a0182\",\"#004201\",\"#0fffa8\",\"#5d003f\",\"#bcbcff\",\"#d8afa1\",\"#b80080\",\"#004d52\",\"#6b6400\",\"#7c0100\",\"#6026ff\",\"#ffff9a\",\"#564964\",\"#8cb893\",\"#93fbff\",\"#018267\",\"#90ff00\",\"#8200a0\",\"#ac8944\",\"#5b3400\",\"#ffbff2\",\"#ff6e75\",\"#798cff\",\"#dd00ff\",\"#505646\",\"#004489\",\"#ffbf60\",\"#ff018c\",\"#bdc8cf\",\"#af97b5\",\"#b65600\",\"#017000\",\"#cd87ff\",\"#1cd646\",\"#bfebc3\",\"#7997b5\",\"#a56089\",\"#6e8956\",\"#bc7c75\",\"#8a2844\",\"#00acff\",\"#8ed4ff\",\"#4b6d77\",\"#00d4b1\",\"#9300f2\",\"#8a9500\",\"#5d5b9e\",\"#fddfba\",\"#00939e\",\"#ffdb00\",\"#00aa79\",\"#520067\",\"#000091\",\"#0a5d3d\",\"#a5e275\",\"#623b41\",\"#c6c689\",\"#ff9eb5\",\"#cd4f6b\",\"#ff07d6\",\"#8a3a05\",\"#7e3d70\",\"#ff4901\",\"#602ba5\",\"#1c00ff\",\"#e6dfff\",\"#aa3baf\",\"#d89c00\",\"#a3a39e\",\"#3f69ff\",\"#46490c\",\"#7b6985\",\"#6b978c\",\"#ff9a75\",\"#835bff\",\"#7c6b46\"],\"factors\":[\"college\",\"mili\",\"port alfred\",\"blackmans bay\",\"nishinoomote\",\"luderitz\",\"zafarabad\",\"atafu village\",\"edinburgh of the seven seas\",\"tolanaro\",\"yellowknife\",\"chom thong\",\"at taj\",\"cabugao\",\"roma\",\"albany\",\"belyy yar\",\"adamstown\",\"bima\",\"bilibino\",\"kushikino\",\"anadyr\",\"haiku-pauwela\",\"vorgashor\",\"el carril\",\"port-aux-francais\",\"afaahiti\",\"kodiak\",\"bethel\",\"dryden\",\"kerikeri\",\"hermanus\",\"hithadhoo\",\"al jawf\",\"west island\",\"port lincoln\",\"sittwe\",\"olonkinbyen\",\"nanao\",\"rongelap\",\"hawaiian paradise park\",\"tiksi\",\"srednebelaya\",\"emerald\",\"margaret river\",\"vilyuchinsk\",\"cullowhee\",\"waitangi\",\"geraldton\",\"cidreira\",\"margate\",\"sao martinho\",\"gargalianoi\",\"dergachi\",\"codrington\",\"hawera\",\"guerrero negro\",\"vadso\",\"adrar\",\"bondo\",\"egilsstadir\",\"sathyamangalam\",\"wailua homesteads\",\"ilulissat\",\"churapcha\",\"meadow lakes\",\"shalqar\",\"papatowai\",\"livingston\",\"birobidzhan\",\"sitka\",\"kavaratti\",\"san patricio\",\"puerto natales\",\"punta arenas\",\"papao\",\"melfort\",\"taiohae\",\"quellon\",\"collie\",\"pisco\",\"keflavik\",\"murakami\",\"grytviken\",\"salvador\",\"goondiwindi\",\"sandnessjoen\",\"saint-pierre\",\"whistler\",\"celestun\",\"pangai\",\"carrigaline\",\"genhe\",\"galliano\",\"puerto san carlos\",\"invercargill\",\"armacao de buzios\",\"santa ana\",\"den burg\",\"swakopmund\",\"sona\",\"avarua\",\"hovd\",\"shingu\",\"palmer\",\"tocopilla\",\"siocon\",\"vorkuta\",\"fort bragg\",\"nemuro\",\"isafjordur\",\"kapuskasing\",\"porto novo\",\"gurupi\",\"salo\",\"miyako\",\"mirpur bhtoro\",\"nyurba\",\"lebu\",\"pervomayskiy\",\"iskateley\",\"fale old settlement\",\"arauca\",\"barrow in furness\",\"cannonvale\",\"malango\",\"tiruchchendur\",\"udachny\",\"kingston\",\"lihue\",\"aykhal\",\"stanley\",\"savave village\",\"mabaruma\",\"longyearbyen\",\"amble\",\"ushuaia\",\"uturoa\",\"ghatanji\",\"opuwo\",\"gao\",\"mount isa\",\"nicoya\",\"ancud\",\"union city\",\"guaranda\",\"shahrak-e pabedana\",\"qaqortoq\",\"mitu\",\"aasiaat\",\"iqaluit\",\"mount gambier\",\"selkirk\",\"vernon\",\"kudat\",\"salinas\",\"joshimath\",\"vila franca do campo\",\"saint-philippe\",\"puerto ayora\",\"nuuk\",\"el nido\",\"saint-joseph\",\"bluefields\",\"rawson\",\"brisas de zicatela\",\"tura\",\"ibshaway\",\"hutchinson island south\",\"usogorsk\",\"sinabang\",\"ar ruways\",\"sumbawanga\",\"kununurra\",\"menongue\",\"badger\",\"port mathurin\",\"arraial do cabo\",\"ouro preto do oeste\",\"enewetak\",\"smithers\",\"napili-honokowai\",\"villa ocampo\",\"martapura\",\"kuanda\",\"karera\",\"alice springs\",\"ribeira grande\",\"mthatha\",\"la passe\",\"janja\",\"chonchi\",\"georgetown\",\"dudinka\",\"carnarvon\",\"mogocha\",\"umatilla\",\"todos santos\",\"saudarkrokur\",\"holualoa\",\"manismata\",\"taoudenni\",\"thompson\",\"sarupathar\",\"naxos\",\"acarau\",\"edd\",\"macusani\",\"qarqaraly\",\"gaspe\",\"priob'ye\",\"hasaki\",\"whitehorse\",\"mombetsu\",\"otaki\",\"thinadhoo\",\"vanimo\",\"polyarnyy\",\"antonio enes\",\"wicklow\",\"samana\",\"talnakh\",\"villa gesell\",\"nanguneri\",\"tofol\",\"okakarara\",\"fisterra\",\"afantou\",\"oberstaufen\",\"crane\",\"al ghayzah\",\"cesme\",\"obo\",\"sao gabriel da cachoeira\",\"lazaro cardenas\",\"bandar lampung\",\"pyapon\",\"cuero\",\"andratx\",\"wuwei\",\"st. john's\",\"reyes\",\"abbadia san salvatore\",\"cut-cut primero\",\"cockburn town\",\"bredasdorp\",\"baardheere\",\"venilale\",\"hirado\",\"santa rosa de rio primero\",\"nova sintra\",\"usinsk\",\"pacasmayo\",\"santyoku\",\"sao felix do xingu\",\"constantia\",\"klyuchi\",\"la rioja\",\"flying fish cove\",\"sainyabuli\",\"cuatro cienegas de carranza\",\"freetown\",\"belinskiy\",\"utrik\",\"heiligenhafen\",\"yuzhno-kurilsk\",\"sumenep\",\"salobrena\",\"oguzeli\",\"baukau\",\"broome\",\"kayangel\",\"naze\",\"agat village\",\"sirjan\",\"gadzhiyevo\",\"kapa'a\",\"puerto ayacucho\",\"massawa\",\"orda\",\"yoichi\",\"grootfontein\",\"nabire\",\"as samawah\",\"pemba\",\"severnoye\",\"taulaga\",\"trinidad\",\"susuman\",\"nova vicosa\",\"namibe\",\"brookings\",\"okha\",\"san luis\",\"mejit\",\"paradip garh\",\"hammerfest\",\"kijang\",\"antalaha\",\"al ajaylat\",\"the pinery\",\"chegdomyn\",\"alofi\",\"bel ombre\",\"takamaka\",\"zheshart\",\"cururupu\",\"santa eularia des riu\",\"kudymkar\",\"port elizabeth\",\"beloyarskiy\",\"robore\",\"maragogi\",\"axim\",\"floro\",\"safford\",\"lorengau\",\"east london\",\"fortuna\",\"manta\",\"san antonio de pale\",\"minas de marcona\",\"el paso\",\"rajaori\",\"namdrik\",\"iquitos\",\"carutapera\",\"trinity beach\",\"kangding\",\"guigang\",\"ta`u\",\"coquimbo\",\"ust'-ilimsk\",\"zakamensk\",\"vangaindrano\",\"dalandzadgad\",\"saint-mandrier-sur-mer\",\"nishon tumani\",\"misratah\",\"wildwood\",\"puerto baquerizo moreno\",\"saldanha\",\"gunjur\",\"arno\",\"ghadamis\",\"bandarbeyla\",\"taroa\",\"yuzhno-sakhalinsk\",\"cabo san lucas\",\"mohr\",\"dunedin\",\"saipan\",\"los llanos de aridane\",\"baymak\",\"shihezi\",\"dwarka\",\"ayr\",\"manjo\",\"lompoc\",\"jamestown\",\"dordrecht\",\"leava\",\"sumbe\",\"tazovsky\",\"matsushima\",\"bodo\",\"mersa matruh\",\"hamilton\",\"vegachi\",\"aglona\",\"ko pha ngan\",\"horta\",\"mil'kovo\",\"zaozersk\",\"gereida\",\"jerome\",\"zaysan\",\"tayaman\",\"yigo village\",\"mournies\",\"novyye lapsary\",\"yangor\",\"colonia\",\"tamiahua\",\"huayucachi\",\"zhezqazghan\",\"kuybyshev\",\"kaiapoi\",\"kourou\",\"petropavlovsk-kamchatsky\",\"shushtar\",\"vyaz'ma\",\"tekirova\",\"warrenton\",\"ramos arizpe\",\"igarka\",\"da lat\",\"kerema\",\"west bay\",\"santa pola\",\"lusambo\",\"alma\",\"sakakah\",\"toshbuloq\",\"kovur\",\"anabar\",\"noshiro\",\"cargados carajos\",\"asaita\",\"idri\",\"antsiranana\",\"del rio\",\"chiroqchi\",\"kaa-khem\",\"pontes e lacerda\",\"masterton\",\"san miguel\",\"aral\",\"laascaanood\",\"moussoro\",\"mukalla\",\"guararapes\",\"portland\",\"peace river\",\"sassandra\",\"wamba\",\"meijel\",\"bamboo flat\",\"tamanrasset\",\"manakara\",\"kizel\",\"aksu\",\"revda\",\"chibougamau\",\"lerum\",\"minab\",\"changping\",\"oualidia\",\"pervomayskoye\",\"shuangcheng\",\"tidjikja\",\"kruisfontein\",\"motygino\",\"nouadhibou\",\"chenzhou\",\"vingt cinq\",\"xilin hot\",\"magadan\",\"zouerate\",\"parabel'\",\"pyhajarvi\",\"tsiombe\",\"villa canas\",\"zemio\",\"iquique\",\"jijiga\",\"happy valley-goose bay\",\"leninskoye\",\"fuvahmulah\",\"port saint john's\",\"oxapampa\",\"lata\",\"noosa heads\",\"sault ste. marie\",\"santa cruz\",\"callao\",\"al hufuf\",\"ndibene dahra\",\"metro\",\"aginskoye\",\"almeirim\",\"bafq\",\"al mithnab\",\"witu\",\"letlhakeng\",\"nar'yan-mar\",\"lankaran\",\"tomatlan\",\"chipinge\",\"waterboro\",\"zhangye\",\"mazagao\",\"port macquarie\",\"nuku'alofa\",\"isla mujeres\",\"kailua-kona\",\"jumla\",\"constitucion\",\"muravlenko\",\"taquarana\",\"ketchikan\",\"twyford\",\"businga\",\"zheleznogorsk-ilimskiy\",\"monroe\",\"cam ranh\",\"ust-nera\",\"berdigestyakh\",\"estevan\",\"auki\",\"covington\",\"aykol\",\"sola\",\"saint-francois\",\"hobyo\",\"senekal\",\"eirunepe\",\"jiuquan\",\"prince rupert\",\"essaouira\",\"moree\",\"rikaze\",\"reuleuet\",\"remire-montjoly\",\"dadonghai\",\"serdar\",\"halifax\",\"ghat\",\"biryusinsk\",\"badiyah\",\"mogadishu\",\"barclayville\",\"victoria de durango\",\"guiria\",\"pahrump\",\"trier\",\"westerland\",\"toliara\",\"filadelfia\",\"santa terezinha\",\"betio village\",\"fuling\",\"port hedland\",\"mount pearl\",\"bardai\",\"santos\",\"forster\",\"princeville\",\"dawson creek\",\"touros\",\"casper\",\"mar del plata\",\"we\",\"lauro de freitas\",\"eldorado\",\"merizo village\",\"fiambala\",\"rio grande\",\"lovington\",\"corner brook\",\"al ain city\",\"pecos\",\"sisimiut\",\"simanggang\",\"ierapetra\",\"brokopondo\",\"queenstown\",\"klaksvik\",\"barra de santo antonio\",\"maitum\",\"utiel\",\"ridgecrest\",\"mhlume\",\"binghamton\",\"pandan\",\"coahuayana de hidalgo\",\"moroni\",\"belmonte\",\"blenheim\",\"arkhangel'sk\",\"koluszki\",\"vereshchagino\",\"morondava\",\"sovetskaya gavan'\",\"nabari\",\"stone mountain\",\"kani keli\",\"lagunillas\",\"asubulaq\",\"kavieng\",\"lloydminster\",\"the pas\",\"oyo\",\"davydovka\",\"kolonia town\",\"danville\",\"formosa\",\"al wajh\",\"miri\",\"polewali\",\"mbanza-ngungu\",\"valdepenas\",\"wewak\",\"khagrachhari\",\"al mindak\",\"aripuana\",\"la'ie\",\"presidente franco\"]}}},\"fill_color\":{\"type\":\"field\",\"field\":\"color\",\"transform\":{\"id\":\"p1081\"}},\"hatch_color\":{\"type\":\"field\",\"field\":\"color\",\"transform\":{\"id\":\"p1081\"}}}},\"selection_glyph\":{\"type\":\"object\",\"name\":\"Scatter\",\"id\":\"p1090\",\"attributes\":{\"tags\":[\"apply_ranges\"],\"x\":{\"type\":\"field\",\"field\":\"Lng\"},\"y\":{\"type\":\"field\",\"field\":\"Lat\"},\"size\":{\"type\":\"field\",\"field\":\"size\"},\"line_color\":{\"type\":\"field\",\"field\":\"color\",\"transform\":{\"id\":\"p1081\"}},\"fill_color\":{\"type\":\"field\",\"field\":\"color\",\"transform\":{\"id\":\"p1081\"}},\"hatch_color\":{\"type\":\"field\",\"field\":\"color\",\"transform\":{\"id\":\"p1081\"}}}},\"nonselection_glyph\":{\"type\":\"object\",\"name\":\"Scatter\",\"id\":\"p1089\",\"attributes\":{\"tags\":[\"apply_ranges\"],\"x\":{\"type\":\"field\",\"field\":\"Lng\"},\"y\":{\"type\":\"field\",\"field\":\"Lat\"},\"size\":{\"type\":\"field\",\"field\":\"size\"},\"line_color\":{\"type\":\"field\",\"field\":\"color\",\"transform\":{\"id\":\"p1081\"}},\"line_alpha\":{\"type\":\"value\",\"value\":0.1},\"fill_color\":{\"type\":\"field\",\"field\":\"color\",\"transform\":{\"id\":\"p1081\"}},\"fill_alpha\":{\"type\":\"value\",\"value\":0.1},\"hatch_color\":{\"type\":\"field\",\"field\":\"color\",\"transform\":{\"id\":\"p1081\"}},\"hatch_alpha\":{\"type\":\"value\",\"value\":0.1}}},\"hover_glyph\":{\"type\":\"object\",\"name\":\"Scatter\",\"id\":\"p1091\",\"attributes\":{\"tags\":[\"apply_ranges\"],\"x\":{\"type\":\"field\",\"field\":\"Lng\"},\"y\":{\"type\":\"field\",\"field\":\"Lat\"},\"size\":{\"type\":\"field\",\"field\":\"size\"},\"line_color\":{\"type\":\"field\",\"field\":\"color\",\"transform\":{\"id\":\"p1081\"}},\"fill_color\":{\"type\":\"field\",\"field\":\"color\",\"transform\":{\"id\":\"p1081\"}},\"hatch_color\":{\"type\":\"field\",\"field\":\"color\",\"transform\":{\"id\":\"p1081\"}}}},\"muted_glyph\":{\"type\":\"object\",\"name\":\"Scatter\",\"id\":\"p1092\",\"attributes\":{\"tags\":[\"apply_ranges\"],\"x\":{\"type\":\"field\",\"field\":\"Lng\"},\"y\":{\"type\":\"field\",\"field\":\"Lat\"},\"size\":{\"type\":\"field\",\"field\":\"size\"},\"line_color\":{\"type\":\"field\",\"field\":\"color\",\"transform\":{\"id\":\"p1081\"}},\"line_alpha\":{\"type\":\"value\",\"value\":0.2},\"fill_color\":{\"type\":\"field\",\"field\":\"color\",\"transform\":{\"id\":\"p1081\"}},\"fill_alpha\":{\"type\":\"value\",\"value\":0.2},\"hatch_color\":{\"type\":\"field\",\"field\":\"color\",\"transform\":{\"id\":\"p1081\"}},\"hatch_alpha\":{\"type\":\"value\",\"value\":0.2}}}}}],\"toolbar\":{\"type\":\"object\",\"name\":\"Toolbar\",\"id\":\"p1053\",\"attributes\":{\"tools\":[{\"type\":\"object\",\"name\":\"WheelZoomTool\",\"id\":\"p1029\",\"attributes\":{\"renderers\":\"auto\",\"zoom_on_axis\":false}},{\"type\":\"object\",\"name\":\"BoxZoomTool\",\"id\":\"p1030\",\"attributes\":{\"overlay\":{\"type\":\"object\",\"name\":\"BoxAnnotation\",\"id\":\"p1006\",\"attributes\":{\"syncable\":false,\"level\":\"overlay\",\"visible\":false,\"left\":{\"type\":\"number\",\"value\":\"nan\"},\"right\":{\"type\":\"number\",\"value\":\"nan\"},\"top\":{\"type\":\"number\",\"value\":\"nan\"},\"bottom\":{\"type\":\"number\",\"value\":\"nan\"},\"left_units\":\"canvas\",\"right_units\":\"canvas\",\"top_units\":\"canvas\",\"bottom_units\":\"canvas\",\"line_color\":\"black\",\"line_alpha\":1.0,\"line_width\":2,\"line_dash\":[4,4],\"fill_color\":\"lightgrey\",\"fill_alpha\":0.5}},\"match_aspect\":true}},{\"type\":\"object\",\"name\":\"HoverTool\",\"id\":\"p1043\",\"attributes\":{\"tags\":[\"hv_created\"],\"renderers\":[{\"id\":\"p1093\"}],\"tooltips\":[[\"Lng\",\"$x{custom}\"],[\"Lat\",\"$y{custom}\"],[\"City\",\"@{City}\"],[\"Humidity\",\"@{Humidity}\"]],\"formatters\":{\"type\":\"map\",\"entries\":[[\"$x\",{\"type\":\"object\",\"name\":\"CustomJSHover\",\"id\":\"p1098\",\"attributes\":{\"code\":\"\\n        const projections = Bokeh.require(\\\"core/util/projections\\\");\\n        const {snap_x, snap_y} = special_vars\\n        const coords = projections.wgs84_mercator.invert(snap_x, snap_y)\\n        return \\\"\\\" + (coords[0]).toFixed(4)\\n    \"}}],[\"$y\",{\"type\":\"object\",\"name\":\"CustomJSHover\",\"id\":\"p1099\",\"attributes\":{\"code\":\"\\n        const projections = Bokeh.require(\\\"core/util/projections\\\");\\n        const {snap_x, snap_y} = special_vars\\n        const coords = projections.wgs84_mercator.invert(snap_x, snap_y)\\n        return \\\"\\\" + (coords[1]).toFixed(4)\\n    \"}}]]}}},{\"type\":\"object\",\"name\":\"PanTool\",\"id\":\"p1067\"},{\"type\":\"object\",\"name\":\"ResetTool\",\"id\":\"p1068\"}],\"active_drag\":{\"id\":\"p1067\"}}},\"left\":[{\"type\":\"object\",\"name\":\"LinearAxis\",\"id\":\"p1061\",\"attributes\":{\"ticker\":{\"type\":\"object\",\"name\":\"MercatorTicker\",\"id\":\"p1071\",\"attributes\":{\"mantissas\":[1,2,5],\"dimension\":\"lat\"}},\"formatter\":{\"type\":\"object\",\"name\":\"MercatorTickFormatter\",\"id\":\"p1072\",\"attributes\":{\"dimension\":\"lat\"}},\"axis_label\":\"Latitude\",\"major_label_policy\":{\"type\":\"object\",\"name\":\"AllLabels\",\"id\":\"p1064\"}}}],\"right\":[{\"type\":\"object\",\"name\":\"Legend\",\"id\":\"p1096\",\"attributes\":{\"location\":[0,0],\"click_policy\":\"mute\",\"items\":[{\"type\":\"object\",\"name\":\"LegendItem\",\"id\":\"p1097\",\"attributes\":{\"label\":{\"type\":\"field\",\"field\":\"color\"},\"renderers\":[{\"id\":\"p1093\"}]}}]}}],\"below\":[{\"type\":\"object\",\"name\":\"LinearAxis\",\"id\":\"p1056\",\"attributes\":{\"ticker\":{\"type\":\"object\",\"name\":\"MercatorTicker\",\"id\":\"p1069\",\"attributes\":{\"mantissas\":[1,2,5],\"dimension\":\"lon\"}},\"formatter\":{\"type\":\"object\",\"name\":\"MercatorTickFormatter\",\"id\":\"p1070\",\"attributes\":{\"dimension\":\"lon\"}},\"axis_label\":\"Longitude\",\"major_label_policy\":{\"type\":\"object\",\"name\":\"AllLabels\",\"id\":\"p1059\"}}}],\"center\":[{\"type\":\"object\",\"name\":\"Grid\",\"id\":\"p1060\",\"attributes\":{\"axis\":{\"id\":\"p1056\"},\"grid_line_color\":null}},{\"type\":\"object\",\"name\":\"Grid\",\"id\":\"p1065\",\"attributes\":{\"dimension\":1,\"axis\":{\"id\":\"p1061\"},\"grid_line_color\":null}}],\"frame_width\":800,\"frame_height\":802,\"min_border_top\":10,\"min_border_bottom\":10,\"min_border_left\":10,\"min_border_right\":10,\"output_backend\":\"webgl\",\"match_aspect\":true}},{\"type\":\"object\",\"name\":\"Spacer\",\"id\":\"p1101\",\"attributes\":{\"name\":\"HSpacer01703\",\"stylesheets\":[\"\\n:host(.pn-loading):before, .pn-loading:before {\\n  background-color: #c3c3c3;\\n  mask-size: auto calc(min(50%, 400px));\\n  -webkit-mask-size: auto calc(min(50%, 400px));\\n}\",{\"id\":\"p1014\"},{\"id\":\"p1012\"},{\"id\":\"p1013\"}],\"margin\":0,\"sizing_mode\":\"stretch_width\",\"align\":\"start\"}}]}}],\"defs\":[{\"type\":\"model\",\"name\":\"ReactiveHTML1\"},{\"type\":\"model\",\"name\":\"FlexBox1\",\"properties\":[{\"name\":\"align_content\",\"kind\":\"Any\",\"default\":\"flex-start\"},{\"name\":\"align_items\",\"kind\":\"Any\",\"default\":\"flex-start\"},{\"name\":\"flex_direction\",\"kind\":\"Any\",\"default\":\"row\"},{\"name\":\"flex_wrap\",\"kind\":\"Any\",\"default\":\"wrap\"},{\"name\":\"gap\",\"kind\":\"Any\",\"default\":\"\"},{\"name\":\"justify_content\",\"kind\":\"Any\",\"default\":\"flex-start\"}]},{\"type\":\"model\",\"name\":\"FloatPanel1\",\"properties\":[{\"name\":\"config\",\"kind\":\"Any\",\"default\":{\"type\":\"map\"}},{\"name\":\"contained\",\"kind\":\"Any\",\"default\":true},{\"name\":\"position\",\"kind\":\"Any\",\"default\":\"right-top\"},{\"name\":\"offsetx\",\"kind\":\"Any\",\"default\":null},{\"name\":\"offsety\",\"kind\":\"Any\",\"default\":null},{\"name\":\"theme\",\"kind\":\"Any\",\"default\":\"primary\"},{\"name\":\"status\",\"kind\":\"Any\",\"default\":\"normalized\"}]},{\"type\":\"model\",\"name\":\"GridStack1\",\"properties\":[{\"name\":\"mode\",\"kind\":\"Any\",\"default\":\"warn\"},{\"name\":\"ncols\",\"kind\":\"Any\",\"default\":null},{\"name\":\"nrows\",\"kind\":\"Any\",\"default\":null},{\"name\":\"allow_resize\",\"kind\":\"Any\",\"default\":true},{\"name\":\"allow_drag\",\"kind\":\"Any\",\"default\":true},{\"name\":\"state\",\"kind\":\"Any\",\"default\":[]}]},{\"type\":\"model\",\"name\":\"drag1\",\"properties\":[{\"name\":\"slider_width\",\"kind\":\"Any\",\"default\":5},{\"name\":\"slider_color\",\"kind\":\"Any\",\"default\":\"black\"},{\"name\":\"value\",\"kind\":\"Any\",\"default\":50}]},{\"type\":\"model\",\"name\":\"click1\",\"properties\":[{\"name\":\"terminal_output\",\"kind\":\"Any\",\"default\":\"\"},{\"name\":\"debug_name\",\"kind\":\"Any\",\"default\":\"\"},{\"name\":\"clears\",\"kind\":\"Any\",\"default\":0}]},{\"type\":\"model\",\"name\":\"FastWrapper1\",\"properties\":[{\"name\":\"object\",\"kind\":\"Any\",\"default\":null},{\"name\":\"style\",\"kind\":\"Any\",\"default\":null}]},{\"type\":\"model\",\"name\":\"NotificationAreaBase1\",\"properties\":[{\"name\":\"js_events\",\"kind\":\"Any\",\"default\":{\"type\":\"map\"}},{\"name\":\"position\",\"kind\":\"Any\",\"default\":\"bottom-right\"},{\"name\":\"_clear\",\"kind\":\"Any\",\"default\":0}]},{\"type\":\"model\",\"name\":\"NotificationArea1\",\"properties\":[{\"name\":\"js_events\",\"kind\":\"Any\",\"default\":{\"type\":\"map\"}},{\"name\":\"notifications\",\"kind\":\"Any\",\"default\":[]},{\"name\":\"position\",\"kind\":\"Any\",\"default\":\"bottom-right\"},{\"name\":\"_clear\",\"kind\":\"Any\",\"default\":0},{\"name\":\"types\",\"kind\":\"Any\",\"default\":[{\"type\":\"map\",\"entries\":[[\"type\",\"warning\"],[\"background\",\"#ffc107\"],[\"icon\",{\"type\":\"map\",\"entries\":[[\"className\",\"fas fa-exclamation-triangle\"],[\"tagName\",\"i\"],[\"color\",\"white\"]]}]]},{\"type\":\"map\",\"entries\":[[\"type\",\"info\"],[\"background\",\"#007bff\"],[\"icon\",{\"type\":\"map\",\"entries\":[[\"className\",\"fas fa-info-circle\"],[\"tagName\",\"i\"],[\"color\",\"white\"]]}]]}]}]},{\"type\":\"model\",\"name\":\"Notification\",\"properties\":[{\"name\":\"background\",\"kind\":\"Any\",\"default\":null},{\"name\":\"duration\",\"kind\":\"Any\",\"default\":3000},{\"name\":\"icon\",\"kind\":\"Any\",\"default\":null},{\"name\":\"message\",\"kind\":\"Any\",\"default\":\"\"},{\"name\":\"notification_type\",\"kind\":\"Any\",\"default\":null},{\"name\":\"_destroyed\",\"kind\":\"Any\",\"default\":false}]},{\"type\":\"model\",\"name\":\"TemplateActions1\",\"properties\":[{\"name\":\"open_modal\",\"kind\":\"Any\",\"default\":0},{\"name\":\"close_modal\",\"kind\":\"Any\",\"default\":0}]},{\"type\":\"model\",\"name\":\"BootstrapTemplateActions1\",\"properties\":[{\"name\":\"open_modal\",\"kind\":\"Any\",\"default\":0},{\"name\":\"close_modal\",\"kind\":\"Any\",\"default\":0}]},{\"type\":\"model\",\"name\":\"TemplateEditor1\",\"properties\":[{\"name\":\"layout\",\"kind\":\"Any\",\"default\":[]}]},{\"type\":\"model\",\"name\":\"MaterialTemplateActions1\",\"properties\":[{\"name\":\"open_modal\",\"kind\":\"Any\",\"default\":0},{\"name\":\"close_modal\",\"kind\":\"Any\",\"default\":0}]},{\"type\":\"model\",\"name\":\"copy_to_clipboard1\",\"properties\":[{\"name\":\"fill\",\"kind\":\"Any\",\"default\":\"none\"},{\"name\":\"value\",\"kind\":\"Any\",\"default\":null}]}]}};\n",
       "  var render_items = [{\"docid\":\"d573f5fe-6af2-4ba6-87c5-e536010e108c\",\"roots\":{\"p1011\":\"b6e302ac-d8fd-4811-a93a-89a134bb6219\"},\"root_ids\":[\"p1011\"]}];\n",
       "  var docs = Object.values(docs_json)\n",
       "  if (!docs) {\n",
       "    return\n",
       "  }\n",
       "  const py_version = docs[0].version.replace('rc', '-rc.').replace('.dev', '-dev.')\n",
       "  function embed_document(root) {\n",
       "    var Bokeh = get_bokeh(root)\n",
       "    Bokeh.embed.embed_items_notebook(docs_json, render_items);\n",
       "    for (const render_item of render_items) {\n",
       "      for (const root_id of render_item.root_ids) {\n",
       "\tconst id_el = document.getElementById(root_id)\n",
       "\tif (id_el.children.length && (id_el.children[0].className === 'bk-root')) {\n",
       "\t  const root_el = id_el.children[0]\n",
       "\t  root_el.id = root_el.id + '-rendered'\n",
       "\t}\n",
       "      }\n",
       "    }\n",
       "  }\n",
       "  function get_bokeh(root) {\n",
       "    if (root.Bokeh === undefined) {\n",
       "      return null\n",
       "    } else if (root.Bokeh.version !== py_version) {\n",
       "      if (root.Bokeh.versions === undefined || !root.Bokeh.versions.has(py_version)) {\n",
       "\treturn null\n",
       "      }\n",
       "      return root.Bokeh.versions.get(py_version);\n",
       "    } else if (root.Bokeh.version === py_version) {\n",
       "      return root.Bokeh\n",
       "    }\n",
       "    return null\n",
       "  }\n",
       "  function is_loaded(root) {\n",
       "    var Bokeh = get_bokeh(root)\n",
       "    return (Bokeh != null && Bokeh.Panel !== undefined)\n",
       "  }\n",
       "  if (is_loaded(root)) {\n",
       "    embed_document(root);\n",
       "  } else {\n",
       "    var attempts = 0;\n",
       "    var timer = setInterval(function(root) {\n",
       "      if (is_loaded(root)) {\n",
       "        clearInterval(timer);\n",
       "        embed_document(root);\n",
       "      } else if (document.readyState == \"complete\") {\n",
       "        attempts++;\n",
       "        if (attempts > 200) {\n",
       "          clearInterval(timer);\n",
       "\t  var Bokeh = get_bokeh(root)\n",
       "\t  if (Bokeh == null || Bokeh.Panel == null) {\n",
       "            console.warn(\"Panel: ERROR: Unable to run Panel code because Bokeh or Panel library is missing\");\n",
       "\t  } else {\n",
       "\t    console.warn(\"Panel: WARNING: Attempting to render but not all required libraries could be resolved.\")\n",
       "\t    embed_document(root)\n",
       "\t  }\n",
       "        }\n",
       "      }\n",
       "    }, 25, root)\n",
       "  }\n",
       "})(window);</script>"
      ],
      "text/plain": [
       ":Overlay\n",
       "   .WMTS.I   :WMTS   [Longitude,Latitude]\n",
       "   .Points.I :Points   [Lng,Lat]   (City,Humidity)"
      ]
     },
     "execution_count": 3,
     "metadata": {
      "application/vnd.holoviews_exec.v0+json": {
       "id": "p1011"
      }
     },
     "output_type": "execute_result"
    }
   ],
   "source": [
    "%%capture --no-display\n",
    "\n",
    "# Configure the map plot\n",
    "map_plot_city=city_data_df.hvplot.points(\"Lng\",\"Lat\",\n",
    "    geo = True,\n",
    "    tiles = \"OSM\",\n",
    "    frame_width = 800,\n",
    "    size = \"Humidity\",\n",
    "    color = \"City\"  \n",
    ")\n",
    "# YOUR CODE HERE\n",
    "\n",
    "# Display the map\n",
    "map_plot_city\n",
    "# YOUR CODE HERE"
   ]
  },
  {
   "cell_type": "markdown",
   "metadata": {},
   "source": [
    "### Step 2: Narrow down the `city_data_df` DataFrame to find your ideal weather condition"
   ]
  },
  {
   "cell_type": "code",
   "execution_count": 4,
   "metadata": {},
   "outputs": [
    {
     "data": {
      "text/html": [
       "<div>\n",
       "<style scoped>\n",
       "    .dataframe tbody tr th:only-of-type {\n",
       "        vertical-align: middle;\n",
       "    }\n",
       "\n",
       "    .dataframe tbody tr th {\n",
       "        vertical-align: top;\n",
       "    }\n",
       "\n",
       "    .dataframe thead th {\n",
       "        text-align: right;\n",
       "    }\n",
       "</style>\n",
       "<table border=\"1\" class=\"dataframe\">\n",
       "  <thead>\n",
       "    <tr style=\"text-align: right;\">\n",
       "      <th></th>\n",
       "      <th>City_ID</th>\n",
       "      <th>City</th>\n",
       "      <th>Lat</th>\n",
       "      <th>Lng</th>\n",
       "      <th>Max Temp</th>\n",
       "      <th>Humidity</th>\n",
       "      <th>Cloudiness</th>\n",
       "      <th>Wind Speed</th>\n",
       "      <th>Date</th>\n",
       "    </tr>\n",
       "  </thead>\n",
       "  <tbody>\n",
       "  </tbody>\n",
       "</table>\n",
       "</div>"
      ],
      "text/plain": [
       "Empty DataFrame\n",
       "Columns: [City_ID, City, Lat, Lng, Max Temp, Humidity, Cloudiness, Wind Speed, Date]\n",
       "Index: []"
      ]
     },
     "execution_count": 4,
     "metadata": {},
     "output_type": "execute_result"
    }
   ],
   "source": [
    "# Narrow down cities that fit criteria and drop any results with null values\n",
    "results_city=city_data_df[(city_data_df['Humidity'] < 70) & \n",
    "                                  (city_data_df['Cloudiness'] == 0) & \n",
    "                                  (city_data_df['Max Temp'] <= 25) & \n",
    "                                  (city_data_df['Max Temp'] >=15)]\n",
    "# YOUR CODE HERE\n",
    "\n",
    "# Drop any rows with null values\n",
    "results_city_null_values= results_city.dropna()\n",
    "# YOUR CODE HERE\n",
    "\n",
    "# Display sample data\n",
    "results_city_null_values\n",
    "# YOUR CODE HERE"
   ]
  },
  {
   "cell_type": "markdown",
   "metadata": {},
   "source": [
    "### Step 3: Create a new DataFrame called `hotel_df`."
   ]
  },
  {
   "cell_type": "code",
   "execution_count": 5,
   "metadata": {},
   "outputs": [
    {
     "data": {
      "text/html": [
       "<div>\n",
       "<style scoped>\n",
       "    .dataframe tbody tr th:only-of-type {\n",
       "        vertical-align: middle;\n",
       "    }\n",
       "\n",
       "    .dataframe tbody tr th {\n",
       "        vertical-align: top;\n",
       "    }\n",
       "\n",
       "    .dataframe thead th {\n",
       "        text-align: right;\n",
       "    }\n",
       "</style>\n",
       "<table border=\"1\" class=\"dataframe\">\n",
       "  <thead>\n",
       "    <tr style=\"text-align: right;\">\n",
       "      <th></th>\n",
       "      <th>City</th>\n",
       "      <th>Lat</th>\n",
       "      <th>Lng</th>\n",
       "      <th>Humidity</th>\n",
       "      <th>Hotel Name</th>\n",
       "    </tr>\n",
       "  </thead>\n",
       "  <tbody>\n",
       "  </tbody>\n",
       "</table>\n",
       "</div>"
      ],
      "text/plain": [
       "Empty DataFrame\n",
       "Columns: [City, Lat, Lng, Humidity, Hotel Name]\n",
       "Index: []"
      ]
     },
     "execution_count": 5,
     "metadata": {},
     "output_type": "execute_result"
    }
   ],
   "source": [
    "# Use the Pandas copy function to create DataFrame called hotel_df to store the city, country, coordinates, and humidity\n",
    "hotel_df=results_city[['City', 'Lat', 'Lng', 'Humidity']].copy()\n",
    "# YOUR CODE HERE 'Country'\n",
    "\n",
    "# Add an empty column, \"Hotel Name,\" to the DataFrame so you can store the hotel found using the Geoapify API\n",
    "hotel_df['Hotel Name']=''\n",
    "# YOUR CODE HERE\n",
    "\n",
    "# Display sample data\n",
    "hotel_df\n",
    "# YOUR CODE HERE"
   ]
  },
  {
   "cell_type": "markdown",
   "metadata": {},
   "source": [
    "### Step 4: For each city, use the Geoapify API to find the first hotel located within 10,000 metres of your coordinates."
   ]
  },
  {
   "cell_type": "code",
   "execution_count": 6,
   "metadata": {},
   "outputs": [
    {
     "name": "stdout",
     "output_type": "stream",
     "text": [
      "Starting hotel search\n"
     ]
    },
    {
     "data": {
      "text/html": [
       "<div>\n",
       "<style scoped>\n",
       "    .dataframe tbody tr th:only-of-type {\n",
       "        vertical-align: middle;\n",
       "    }\n",
       "\n",
       "    .dataframe tbody tr th {\n",
       "        vertical-align: top;\n",
       "    }\n",
       "\n",
       "    .dataframe thead th {\n",
       "        text-align: right;\n",
       "    }\n",
       "</style>\n",
       "<table border=\"1\" class=\"dataframe\">\n",
       "  <thead>\n",
       "    <tr style=\"text-align: right;\">\n",
       "      <th></th>\n",
       "      <th>City</th>\n",
       "      <th>Lat</th>\n",
       "      <th>Lng</th>\n",
       "      <th>Humidity</th>\n",
       "      <th>Hotel Name</th>\n",
       "    </tr>\n",
       "  </thead>\n",
       "  <tbody>\n",
       "  </tbody>\n",
       "</table>\n",
       "</div>"
      ],
      "text/plain": [
       "Empty DataFrame\n",
       "Columns: [City, Lat, Lng, Humidity, Hotel Name]\n",
       "Index: []"
      ]
     },
     "execution_count": 6,
     "metadata": {},
     "output_type": "execute_result"
    }
   ],
   "source": [
    "# Set parameters to search for a hotel\n",
    "radius = 1000# YOUR CODE HERE\n",
    "params = {\"apiKey\": geoapify_key,\n",
    "    \"limit\":20,\n",
    "    'categories':'accommodation.hotel'\n",
    "    # YOUR CODE HERE\n",
    "}\n",
    "\n",
    "# Print a message to follow up the hotel search\n",
    "print(\"Starting hotel search\")\n",
    "\n",
    "# Iterate through the hotel_df DataFrame\n",
    "for index, row in hotel_df.iterrows():\n",
    "    # get latitude, longitude from the DataFrame\n",
    "    latitude = row[\"Lat\"]\n",
    "    longitude = row[\"Lng\"]\n",
    "    # YOUR CODE HERE\n",
    "    \n",
    "    # Add filter and bias parameters with the current city's latitude and longitude to the params dictionary\n",
    "    params[\"filter\"] = f\"circle:{longitude},{latitude},{radius}\"# YOUR CODE HERE\n",
    "    params[\"bias\"] = f\"proximity:{longitude},{latitude}\"# YOUR CODE HERE\n",
    "    \n",
    "    # Set base URL\n",
    "    base_url = \"https://api.geoapify.com/v2/places\"\n",
    "\n",
    "\n",
    "    # Make and API request using the params dictionaty\n",
    "    name_address = requests.get(base_url, params=params)# YOUR CODE HERE\n",
    "    \n",
    "    # Convert the API response to JSON format\n",
    "    name_address = name_address.json()# YOUR CODE HERE\n",
    "    \n",
    "    # Grab the first hotel from the results and store the name in the hotel_df DataFrame\n",
    "    try:\n",
    "        hotel_df.loc[index, \"Hotel Name\"] = name_address[\"features\"][0][\"properties\"][\"name\"]\n",
    "    except (KeyError, IndexError):\n",
    "        # If no hotel is found, set the hotel name as \"No hotel found\".\n",
    "        hotel_df.loc[index, \"Hotel Name\"] = \"No hotel found\"\n",
    "        \n",
    "    # Log the search results\n",
    "    print(f\"{hotel_df.loc[index, 'City']} - nearest hotel: {hotel_df.loc[index, 'Hotel Name']}\")\n",
    "\n",
    "# Display sample data\n",
    "hotel_df"
   ]
  },
  {
   "cell_type": "markdown",
   "metadata": {},
   "source": [
    "### Step 5: Add the hotel name and the country as additional information in the hover message for each city in the map."
   ]
  },
  {
   "cell_type": "code",
   "execution_count": 7,
   "metadata": {},
   "outputs": [
    {
     "data": {},
     "metadata": {},
     "output_type": "display_data"
    },
    {
     "data": {
      "application/vnd.holoviews_exec.v0+json": "",
      "text/html": [
       "<div id='p1109'>\n",
       "  <div id=\"d67f5a0b-b4b6-4f3c-b943-7b239f82ce0b\" data-root-id=\"p1109\" style=\"display: contents;\"></div>\n",
       "</div>\n",
       "<script type=\"application/javascript\">(function(root) {\n",
       "  var docs_json = {\"4605fb5c-2580-425b-9d83-1bac07a18aab\":{\"version\":\"3.4.0\",\"title\":\"Bokeh Application\",\"roots\":[{\"type\":\"object\",\"name\":\"Row\",\"id\":\"p1109\",\"attributes\":{\"name\":\"Row01832\",\"tags\":[\"embedded\"],\"stylesheets\":[\"\\n:host(.pn-loading):before, .pn-loading:before {\\n  background-color: #c3c3c3;\\n  mask-size: auto calc(min(50%, 400px));\\n  -webkit-mask-size: auto calc(min(50%, 400px));\\n}\",{\"type\":\"object\",\"name\":\"ImportedStyleSheet\",\"id\":\"p1112\",\"attributes\":{\"url\":\"https://cdn.holoviz.org/panel/1.4.2/dist/css/loading.css\"}},{\"type\":\"object\",\"name\":\"ImportedStyleSheet\",\"id\":\"p1198\",\"attributes\":{\"url\":\"https://cdn.holoviz.org/panel/1.4.2/dist/css/listpanel.css\"}},{\"type\":\"object\",\"name\":\"ImportedStyleSheet\",\"id\":\"p1110\",\"attributes\":{\"url\":\"https://cdn.holoviz.org/panel/1.4.2/dist/bundled/theme/default.css\"}},{\"type\":\"object\",\"name\":\"ImportedStyleSheet\",\"id\":\"p1111\",\"attributes\":{\"url\":\"https://cdn.holoviz.org/panel/1.4.2/dist/bundled/theme/native.css\"}}],\"margin\":0,\"sizing_mode\":\"stretch_width\",\"align\":\"start\",\"children\":[{\"type\":\"object\",\"name\":\"Spacer\",\"id\":\"p1113\",\"attributes\":{\"name\":\"HSpacer01838\",\"stylesheets\":[\"\\n:host(.pn-loading):before, .pn-loading:before {\\n  background-color: #c3c3c3;\\n  mask-size: auto calc(min(50%, 400px));\\n  -webkit-mask-size: auto calc(min(50%, 400px));\\n}\",{\"id\":\"p1112\"},{\"id\":\"p1110\"},{\"id\":\"p1111\"}],\"margin\":0,\"sizing_mode\":\"stretch_width\",\"align\":\"start\"}},{\"type\":\"object\",\"name\":\"Figure\",\"id\":\"p1142\",\"attributes\":{\"width\":null,\"height\":null,\"margin\":[5,10],\"sizing_mode\":\"fixed\",\"align\":\"start\",\"x_range\":{\"type\":\"object\",\"name\":\"Range1d\",\"id\":\"p1123\",\"attributes\":{\"tags\":[[[\"Longitude\",\"Longitude\",null]],[]],\"start\":-2.0,\"end\":3.0,\"min_interval\":5}},\"y_range\":{\"type\":\"object\",\"name\":\"Range1d\",\"id\":\"p1124\",\"attributes\":{\"tags\":[[[\"Latitude\",\"Latitude\",null]],{\"type\":\"map\",\"entries\":[[\"invert_yaxis\",false],[\"autorange\",false]]}],\"start\":-2.0,\"end\":3.0,\"min_interval\":5}},\"x_scale\":{\"type\":\"object\",\"name\":\"LinearScale\",\"id\":\"p1152\"},\"y_scale\":{\"type\":\"object\",\"name\":\"LinearScale\",\"id\":\"p1153\"},\"title\":{\"type\":\"object\",\"name\":\"Title\",\"id\":\"p1145\",\"attributes\":{\"text_color\":\"black\",\"text_font_size\":\"12pt\"}},\"renderers\":[{\"type\":\"object\",\"name\":\"TileRenderer\",\"id\":\"p1175\",\"attributes\":{\"level\":\"underlay\",\"tile_source\":{\"type\":\"object\",\"name\":\"WMTSTileSource\",\"id\":\"p1171\",\"attributes\":{\"url\":\"https://c.tile.openstreetmap.org/{Z}/{X}/{Y}.png\",\"attribution\":\"&copy; <a href=\\\"https://www.openstreetmap.org/copyright\\\">OpenStreetMap</a> contributors\"}}}},{\"type\":\"object\",\"name\":\"GlyphRenderer\",\"id\":\"p1190\",\"attributes\":{\"data_source\":{\"type\":\"object\",\"name\":\"ColumnDataSource\",\"id\":\"p1179\",\"attributes\":{\"selected\":{\"type\":\"object\",\"name\":\"Selection\",\"id\":\"p1180\",\"attributes\":{\"indices\":[],\"line_indices\":[]}},\"selection_policy\":{\"type\":\"object\",\"name\":\"UnionRenderers\",\"id\":\"p1181\"},\"data\":{\"type\":\"map\",\"entries\":[[\"Lng\",{\"type\":\"ndarray\",\"array\":{\"type\":\"bytes\",\"data\":\"\"},\"shape\":[0],\"dtype\":\"float64\",\"order\":\"little\"}],[\"Lat\",{\"type\":\"ndarray\",\"array\":{\"type\":\"bytes\",\"data\":\"\"},\"shape\":[0],\"dtype\":\"float64\",\"order\":\"little\"}],[\"City\",{\"type\":\"ndarray\",\"array\":[],\"shape\":[0],\"dtype\":\"object\",\"order\":\"little\"}],[\"Humidity\",{\"type\":\"ndarray\",\"array\":{\"type\":\"bytes\",\"data\":\"\"},\"shape\":[0],\"dtype\":\"int32\",\"order\":\"little\"}],[\"Hotel_Name\",{\"type\":\"ndarray\",\"array\":[],\"shape\":[0],\"dtype\":\"object\",\"order\":\"little\"}],[\"color\",{\"type\":\"ndarray\",\"array\":[],\"shape\":[0],\"dtype\":\"object\",\"order\":\"little\"}],[\"size\",{\"type\":\"ndarray\",\"array\":{\"type\":\"bytes\",\"data\":\"\"},\"shape\":[0],\"dtype\":\"float64\",\"order\":\"little\"}]]}}},\"view\":{\"type\":\"object\",\"name\":\"CDSView\",\"id\":\"p1191\",\"attributes\":{\"filter\":{\"type\":\"object\",\"name\":\"AllIndices\",\"id\":\"p1192\"}}},\"glyph\":{\"type\":\"object\",\"name\":\"Scatter\",\"id\":\"p1185\",\"attributes\":{\"tags\":[\"apply_ranges\"],\"x\":{\"type\":\"field\",\"field\":\"Lng\"},\"y\":{\"type\":\"field\",\"field\":\"Lat\"},\"size\":{\"type\":\"field\",\"field\":\"size\"},\"line_color\":{\"type\":\"field\",\"field\":\"color\"},\"fill_color\":{\"type\":\"field\",\"field\":\"color\"},\"hatch_color\":{\"type\":\"field\",\"field\":\"color\"}}},\"selection_glyph\":{\"type\":\"object\",\"name\":\"Scatter\",\"id\":\"p1187\",\"attributes\":{\"tags\":[\"apply_ranges\"],\"x\":{\"type\":\"field\",\"field\":\"Lng\"},\"y\":{\"type\":\"field\",\"field\":\"Lat\"},\"size\":{\"type\":\"field\",\"field\":\"size\"},\"line_color\":{\"type\":\"field\",\"field\":\"color\"},\"fill_color\":{\"type\":\"field\",\"field\":\"color\"},\"hatch_color\":{\"type\":\"field\",\"field\":\"color\"}}},\"nonselection_glyph\":{\"type\":\"object\",\"name\":\"Scatter\",\"id\":\"p1186\",\"attributes\":{\"tags\":[\"apply_ranges\"],\"x\":{\"type\":\"field\",\"field\":\"Lng\"},\"y\":{\"type\":\"field\",\"field\":\"Lat\"},\"size\":{\"type\":\"field\",\"field\":\"size\"},\"line_color\":{\"type\":\"field\",\"field\":\"color\"},\"line_alpha\":{\"type\":\"value\",\"value\":0.1},\"fill_color\":{\"type\":\"field\",\"field\":\"color\"},\"fill_alpha\":{\"type\":\"value\",\"value\":0.1},\"hatch_color\":{\"type\":\"field\",\"field\":\"color\"},\"hatch_alpha\":{\"type\":\"value\",\"value\":0.1}}},\"hover_glyph\":{\"type\":\"object\",\"name\":\"Scatter\",\"id\":\"p1188\",\"attributes\":{\"tags\":[\"apply_ranges\"],\"x\":{\"type\":\"field\",\"field\":\"Lng\"},\"y\":{\"type\":\"field\",\"field\":\"Lat\"},\"size\":{\"type\":\"field\",\"field\":\"size\"},\"line_color\":{\"type\":\"field\",\"field\":\"color\"},\"fill_color\":{\"type\":\"field\",\"field\":\"color\"},\"hatch_color\":{\"type\":\"field\",\"field\":\"color\"}}},\"muted_glyph\":{\"type\":\"object\",\"name\":\"Scatter\",\"id\":\"p1189\",\"attributes\":{\"tags\":[\"apply_ranges\"],\"x\":{\"type\":\"field\",\"field\":\"Lng\"},\"y\":{\"type\":\"field\",\"field\":\"Lat\"},\"size\":{\"type\":\"field\",\"field\":\"size\"},\"line_color\":{\"type\":\"field\",\"field\":\"color\"},\"line_alpha\":{\"type\":\"value\",\"value\":0.2},\"fill_color\":{\"type\":\"field\",\"field\":\"color\"},\"fill_alpha\":{\"type\":\"value\",\"value\":0.2},\"hatch_color\":{\"type\":\"field\",\"field\":\"color\"},\"hatch_alpha\":{\"type\":\"value\",\"value\":0.2}}}}}],\"toolbar\":{\"type\":\"object\",\"name\":\"Toolbar\",\"id\":\"p1151\",\"attributes\":{\"tools\":[{\"type\":\"object\",\"name\":\"WheelZoomTool\",\"id\":\"p1127\",\"attributes\":{\"renderers\":\"auto\",\"zoom_on_axis\":false}},{\"type\":\"object\",\"name\":\"BoxZoomTool\",\"id\":\"p1128\",\"attributes\":{\"overlay\":{\"type\":\"object\",\"name\":\"BoxAnnotation\",\"id\":\"p1006\",\"attributes\":{\"syncable\":false,\"level\":\"overlay\",\"visible\":false,\"left\":{\"type\":\"number\",\"value\":\"nan\"},\"right\":{\"type\":\"number\",\"value\":\"nan\"},\"top\":{\"type\":\"number\",\"value\":\"nan\"},\"bottom\":{\"type\":\"number\",\"value\":\"nan\"},\"left_units\":\"canvas\",\"right_units\":\"canvas\",\"top_units\":\"canvas\",\"bottom_units\":\"canvas\",\"line_color\":\"black\",\"line_alpha\":1.0,\"line_width\":2,\"line_dash\":[4,4],\"fill_color\":\"lightgrey\",\"fill_alpha\":0.5}},\"match_aspect\":true}},{\"type\":\"object\",\"name\":\"HoverTool\",\"id\":\"p1141\",\"attributes\":{\"tags\":[\"hv_created\"],\"renderers\":[{\"id\":\"p1190\"}],\"tooltips\":[[\"Lng\",\"$x{custom}\"],[\"Lat\",\"$y{custom}\"],[\"City\",\"@{City}\"],[\"Humidity\",\"@{Humidity}\"],[\"Hotel Name\",\"@{Hotel_Name}\"]],\"formatters\":{\"type\":\"map\",\"entries\":[[\"$x\",{\"type\":\"object\",\"name\":\"CustomJSHover\",\"id\":\"p1193\",\"attributes\":{\"code\":\"\\n        const projections = Bokeh.require(\\\"core/util/projections\\\");\\n        const {snap_x, snap_y} = special_vars\\n        const coords = projections.wgs84_mercator.invert(snap_x, snap_y)\\n        return \\\"\\\" + (coords[0]).toFixed(4)\\n    \"}}],[\"$y\",{\"type\":\"object\",\"name\":\"CustomJSHover\",\"id\":\"p1194\",\"attributes\":{\"code\":\"\\n        const projections = Bokeh.require(\\\"core/util/projections\\\");\\n        const {snap_x, snap_y} = special_vars\\n        const coords = projections.wgs84_mercator.invert(snap_x, snap_y)\\n        return \\\"\\\" + (coords[1]).toFixed(4)\\n    \"}}]]}}},{\"type\":\"object\",\"name\":\"PanTool\",\"id\":\"p1165\"},{\"type\":\"object\",\"name\":\"ResetTool\",\"id\":\"p1166\"}],\"active_drag\":{\"id\":\"p1165\"}}},\"left\":[{\"type\":\"object\",\"name\":\"LinearAxis\",\"id\":\"p1159\",\"attributes\":{\"ticker\":{\"type\":\"object\",\"name\":\"MercatorTicker\",\"id\":\"p1169\",\"attributes\":{\"mantissas\":[1,2,5],\"dimension\":\"lat\"}},\"formatter\":{\"type\":\"object\",\"name\":\"MercatorTickFormatter\",\"id\":\"p1170\",\"attributes\":{\"dimension\":\"lat\"}},\"axis_label\":\"Latitude\",\"major_label_policy\":{\"type\":\"object\",\"name\":\"AllLabels\",\"id\":\"p1162\"}}}],\"below\":[{\"type\":\"object\",\"name\":\"LinearAxis\",\"id\":\"p1154\",\"attributes\":{\"ticker\":{\"type\":\"object\",\"name\":\"MercatorTicker\",\"id\":\"p1167\",\"attributes\":{\"mantissas\":[1,2,5],\"dimension\":\"lon\"}},\"formatter\":{\"type\":\"object\",\"name\":\"MercatorTickFormatter\",\"id\":\"p1168\",\"attributes\":{\"dimension\":\"lon\"}},\"axis_label\":\"Longitude\",\"major_label_policy\":{\"type\":\"object\",\"name\":\"AllLabels\",\"id\":\"p1157\"}}}],\"center\":[{\"type\":\"object\",\"name\":\"Grid\",\"id\":\"p1158\",\"attributes\":{\"axis\":{\"id\":\"p1154\"},\"grid_line_color\":null}},{\"type\":\"object\",\"name\":\"Grid\",\"id\":\"p1163\",\"attributes\":{\"dimension\":1,\"axis\":{\"id\":\"p1159\"},\"grid_line_color\":null}}],\"frame_width\":800,\"frame_height\":600,\"min_border_top\":10,\"min_border_bottom\":10,\"min_border_left\":10,\"min_border_right\":10,\"output_backend\":\"webgl\",\"match_aspect\":true}},{\"type\":\"object\",\"name\":\"Spacer\",\"id\":\"p1196\",\"attributes\":{\"name\":\"HSpacer01839\",\"stylesheets\":[\"\\n:host(.pn-loading):before, .pn-loading:before {\\n  background-color: #c3c3c3;\\n  mask-size: auto calc(min(50%, 400px));\\n  -webkit-mask-size: auto calc(min(50%, 400px));\\n}\",{\"id\":\"p1112\"},{\"id\":\"p1110\"},{\"id\":\"p1111\"}],\"margin\":0,\"sizing_mode\":\"stretch_width\",\"align\":\"start\"}}]}}],\"defs\":[{\"type\":\"model\",\"name\":\"ReactiveHTML1\"},{\"type\":\"model\",\"name\":\"FlexBox1\",\"properties\":[{\"name\":\"align_content\",\"kind\":\"Any\",\"default\":\"flex-start\"},{\"name\":\"align_items\",\"kind\":\"Any\",\"default\":\"flex-start\"},{\"name\":\"flex_direction\",\"kind\":\"Any\",\"default\":\"row\"},{\"name\":\"flex_wrap\",\"kind\":\"Any\",\"default\":\"wrap\"},{\"name\":\"gap\",\"kind\":\"Any\",\"default\":\"\"},{\"name\":\"justify_content\",\"kind\":\"Any\",\"default\":\"flex-start\"}]},{\"type\":\"model\",\"name\":\"FloatPanel1\",\"properties\":[{\"name\":\"config\",\"kind\":\"Any\",\"default\":{\"type\":\"map\"}},{\"name\":\"contained\",\"kind\":\"Any\",\"default\":true},{\"name\":\"position\",\"kind\":\"Any\",\"default\":\"right-top\"},{\"name\":\"offsetx\",\"kind\":\"Any\",\"default\":null},{\"name\":\"offsety\",\"kind\":\"Any\",\"default\":null},{\"name\":\"theme\",\"kind\":\"Any\",\"default\":\"primary\"},{\"name\":\"status\",\"kind\":\"Any\",\"default\":\"normalized\"}]},{\"type\":\"model\",\"name\":\"GridStack1\",\"properties\":[{\"name\":\"mode\",\"kind\":\"Any\",\"default\":\"warn\"},{\"name\":\"ncols\",\"kind\":\"Any\",\"default\":null},{\"name\":\"nrows\",\"kind\":\"Any\",\"default\":null},{\"name\":\"allow_resize\",\"kind\":\"Any\",\"default\":true},{\"name\":\"allow_drag\",\"kind\":\"Any\",\"default\":true},{\"name\":\"state\",\"kind\":\"Any\",\"default\":[]}]},{\"type\":\"model\",\"name\":\"drag1\",\"properties\":[{\"name\":\"slider_width\",\"kind\":\"Any\",\"default\":5},{\"name\":\"slider_color\",\"kind\":\"Any\",\"default\":\"black\"},{\"name\":\"value\",\"kind\":\"Any\",\"default\":50}]},{\"type\":\"model\",\"name\":\"click1\",\"properties\":[{\"name\":\"terminal_output\",\"kind\":\"Any\",\"default\":\"\"},{\"name\":\"debug_name\",\"kind\":\"Any\",\"default\":\"\"},{\"name\":\"clears\",\"kind\":\"Any\",\"default\":0}]},{\"type\":\"model\",\"name\":\"FastWrapper1\",\"properties\":[{\"name\":\"object\",\"kind\":\"Any\",\"default\":null},{\"name\":\"style\",\"kind\":\"Any\",\"default\":null}]},{\"type\":\"model\",\"name\":\"NotificationAreaBase1\",\"properties\":[{\"name\":\"js_events\",\"kind\":\"Any\",\"default\":{\"type\":\"map\"}},{\"name\":\"position\",\"kind\":\"Any\",\"default\":\"bottom-right\"},{\"name\":\"_clear\",\"kind\":\"Any\",\"default\":0}]},{\"type\":\"model\",\"name\":\"NotificationArea1\",\"properties\":[{\"name\":\"js_events\",\"kind\":\"Any\",\"default\":{\"type\":\"map\"}},{\"name\":\"notifications\",\"kind\":\"Any\",\"default\":[]},{\"name\":\"position\",\"kind\":\"Any\",\"default\":\"bottom-right\"},{\"name\":\"_clear\",\"kind\":\"Any\",\"default\":0},{\"name\":\"types\",\"kind\":\"Any\",\"default\":[{\"type\":\"map\",\"entries\":[[\"type\",\"warning\"],[\"background\",\"#ffc107\"],[\"icon\",{\"type\":\"map\",\"entries\":[[\"className\",\"fas fa-exclamation-triangle\"],[\"tagName\",\"i\"],[\"color\",\"white\"]]}]]},{\"type\":\"map\",\"entries\":[[\"type\",\"info\"],[\"background\",\"#007bff\"],[\"icon\",{\"type\":\"map\",\"entries\":[[\"className\",\"fas fa-info-circle\"],[\"tagName\",\"i\"],[\"color\",\"white\"]]}]]}]}]},{\"type\":\"model\",\"name\":\"Notification\",\"properties\":[{\"name\":\"background\",\"kind\":\"Any\",\"default\":null},{\"name\":\"duration\",\"kind\":\"Any\",\"default\":3000},{\"name\":\"icon\",\"kind\":\"Any\",\"default\":null},{\"name\":\"message\",\"kind\":\"Any\",\"default\":\"\"},{\"name\":\"notification_type\",\"kind\":\"Any\",\"default\":null},{\"name\":\"_destroyed\",\"kind\":\"Any\",\"default\":false}]},{\"type\":\"model\",\"name\":\"TemplateActions1\",\"properties\":[{\"name\":\"open_modal\",\"kind\":\"Any\",\"default\":0},{\"name\":\"close_modal\",\"kind\":\"Any\",\"default\":0}]},{\"type\":\"model\",\"name\":\"BootstrapTemplateActions1\",\"properties\":[{\"name\":\"open_modal\",\"kind\":\"Any\",\"default\":0},{\"name\":\"close_modal\",\"kind\":\"Any\",\"default\":0}]},{\"type\":\"model\",\"name\":\"TemplateEditor1\",\"properties\":[{\"name\":\"layout\",\"kind\":\"Any\",\"default\":[]}]},{\"type\":\"model\",\"name\":\"MaterialTemplateActions1\",\"properties\":[{\"name\":\"open_modal\",\"kind\":\"Any\",\"default\":0},{\"name\":\"close_modal\",\"kind\":\"Any\",\"default\":0}]},{\"type\":\"model\",\"name\":\"copy_to_clipboard1\",\"properties\":[{\"name\":\"fill\",\"kind\":\"Any\",\"default\":\"none\"},{\"name\":\"value\",\"kind\":\"Any\",\"default\":null}]}]}};\n",
       "  var render_items = [{\"docid\":\"4605fb5c-2580-425b-9d83-1bac07a18aab\",\"roots\":{\"p1109\":\"d67f5a0b-b4b6-4f3c-b943-7b239f82ce0b\"},\"root_ids\":[\"p1109\"]}];\n",
       "  var docs = Object.values(docs_json)\n",
       "  if (!docs) {\n",
       "    return\n",
       "  }\n",
       "  const py_version = docs[0].version.replace('rc', '-rc.').replace('.dev', '-dev.')\n",
       "  function embed_document(root) {\n",
       "    var Bokeh = get_bokeh(root)\n",
       "    Bokeh.embed.embed_items_notebook(docs_json, render_items);\n",
       "    for (const render_item of render_items) {\n",
       "      for (const root_id of render_item.root_ids) {\n",
       "\tconst id_el = document.getElementById(root_id)\n",
       "\tif (id_el.children.length && (id_el.children[0].className === 'bk-root')) {\n",
       "\t  const root_el = id_el.children[0]\n",
       "\t  root_el.id = root_el.id + '-rendered'\n",
       "\t}\n",
       "      }\n",
       "    }\n",
       "  }\n",
       "  function get_bokeh(root) {\n",
       "    if (root.Bokeh === undefined) {\n",
       "      return null\n",
       "    } else if (root.Bokeh.version !== py_version) {\n",
       "      if (root.Bokeh.versions === undefined || !root.Bokeh.versions.has(py_version)) {\n",
       "\treturn null\n",
       "      }\n",
       "      return root.Bokeh.versions.get(py_version);\n",
       "    } else if (root.Bokeh.version === py_version) {\n",
       "      return root.Bokeh\n",
       "    }\n",
       "    return null\n",
       "  }\n",
       "  function is_loaded(root) {\n",
       "    var Bokeh = get_bokeh(root)\n",
       "    return (Bokeh != null && Bokeh.Panel !== undefined)\n",
       "  }\n",
       "  if (is_loaded(root)) {\n",
       "    embed_document(root);\n",
       "  } else {\n",
       "    var attempts = 0;\n",
       "    var timer = setInterval(function(root) {\n",
       "      if (is_loaded(root)) {\n",
       "        clearInterval(timer);\n",
       "        embed_document(root);\n",
       "      } else if (document.readyState == \"complete\") {\n",
       "        attempts++;\n",
       "        if (attempts > 200) {\n",
       "          clearInterval(timer);\n",
       "\t  var Bokeh = get_bokeh(root)\n",
       "\t  if (Bokeh == null || Bokeh.Panel == null) {\n",
       "            console.warn(\"Panel: ERROR: Unable to run Panel code because Bokeh or Panel library is missing\");\n",
       "\t  } else {\n",
       "\t    console.warn(\"Panel: WARNING: Attempting to render but not all required libraries could be resolved.\")\n",
       "\t    embed_document(root)\n",
       "\t  }\n",
       "        }\n",
       "      }\n",
       "    }, 25, root)\n",
       "  }\n",
       "})(window);</script>"
      ],
      "text/plain": [
       ":Overlay\n",
       "   .WMTS.I   :WMTS   [Longitude,Latitude]\n",
       "   .Points.I :Points   [Lng,Lat]   (City,Humidity,Hotel Name)"
      ]
     },
     "execution_count": 7,
     "metadata": {
      "application/vnd.holoviews_exec.v0+json": {
       "id": "p1109"
      }
     },
     "output_type": "execute_result"
    }
   ],
   "source": [
    "%%capture --no-display\n",
    "\n",
    "# Configure the map plot\n",
    "map_plot_city2 = hotel_df.hvplot.points(\"Lng\",\"Lat\",\n",
    "    geo = True,\n",
    "    tiles = \"OSM\",\n",
    "    frame_width = 800,\n",
    "    frame_height =600,\n",
    "    size = \"Humidity\",\n",
    "    color = \"City\",\n",
    "    hover_cols = ['City', 'Country', 'Hotel Name'] \n",
    ")\n",
    "# YOUR CODE HERE\n",
    "\n",
    "# Display the map\n",
    "map_plot_city2\n",
    "# YOUR CODE HERE"
   ]
  },
  {
   "cell_type": "code",
   "execution_count": null,
   "metadata": {},
   "outputs": [],
   "source": []
  }
 ],
 "metadata": {
  "kernelspec": {
   "display_name": "Python 3 (ipykernel)",
   "language": "python",
   "name": "python3"
  },
  "language_info": {
   "codemirror_mode": {
    "name": "ipython",
    "version": 3
   },
   "file_extension": ".py",
   "mimetype": "text/x-python",
   "name": "python",
   "nbconvert_exporter": "python",
   "pygments_lexer": "ipython3",
   "version": "3.10.13"
  },
  "latex_envs": {
   "LaTeX_envs_menu_present": true,
   "autoclose": false,
   "autocomplete": true,
   "bibliofile": "biblio.bib",
   "cite_by": "apalike",
   "current_citInitial": 1,
   "eqLabelWithNumbers": true,
   "eqNumInitial": 1,
   "hotkeys": {
    "equation": "Ctrl-E",
    "itemize": "Ctrl-I"
   },
   "labels_anchors": false,
   "latex_user_defs": false,
   "report_style_numbering": false,
   "user_envs_cfg": false
  }
 },
 "nbformat": 4,
 "nbformat_minor": 4
}
